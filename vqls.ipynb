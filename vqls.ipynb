{
 "cells": [
  {
   "cell_type": "markdown",
   "id": "NHr2ypVcs4Rb",
   "metadata": {
    "id": "NHr2ypVcs4Rb"
   },
   "source": [
    "[Article](https://arxiv.org/pdf/1909.05820.pdf)\n",
    "\n",
    "[Qiskit](https://qiskit.org/textbook/ch-paper-implementations/vqls.html)"
   ]
  },
  {
   "cell_type": "code",
   "execution_count": 1,
   "id": "GDxmFABIc4Ye",
   "metadata": {
    "colab": {
     "base_uri": "https://localhost:8080/"
    },
    "id": "GDxmFABIc4Ye",
    "outputId": "79ac2edb-02de-49bb-acca-808f5f7d298e"
   },
   "outputs": [
    {
     "name": "stdout",
     "output_type": "stream",
     "text": [
      "Defaulting to user installation because normal site-packages is not writeable\n",
      "Requirement already satisfied: qiskit in /home/vladimir/.local/lib/python3.10/site-packages (0.34.1)\n",
      "Requirement already satisfied: qiskit-terra==0.19.1 in /home/vladimir/.local/lib/python3.10/site-packages (from qiskit) (0.19.1)\n",
      "Requirement already satisfied: qiskit-aer==0.10.2 in /home/vladimir/.local/lib/python3.10/site-packages (from qiskit) (0.10.2)\n",
      "Requirement already satisfied: qiskit-ibmq-provider==0.18.3 in /home/vladimir/.local/lib/python3.10/site-packages (from qiskit) (0.18.3)\n",
      "Requirement already satisfied: qiskit-ignis==0.7.0 in /home/vladimir/.local/lib/python3.10/site-packages (from qiskit) (0.7.0)\n",
      "Requirement already satisfied: scipy>=1.0 in /home/vladimir/.local/lib/python3.10/site-packages (from qiskit-aer==0.10.2->qiskit) (1.8.0)\n",
      "Requirement already satisfied: numpy>=1.16.3 in /home/vladimir/.local/lib/python3.10/site-packages (from qiskit-aer==0.10.2->qiskit) (1.23.5)\n",
      "Requirement already satisfied: websocket-client>=1.0.1 in /home/vladimir/.local/lib/python3.10/site-packages (from qiskit-ibmq-provider==0.18.3->qiskit) (1.2.3)\n",
      "Requirement already satisfied: requests>=2.19 in /home/vladimir/.local/lib/python3.10/site-packages (from qiskit-ibmq-provider==0.18.3->qiskit) (2.28.1)\n",
      "Requirement already satisfied: python-dateutil>=2.8.0 in /home/vladimir/.local/lib/python3.10/site-packages (from qiskit-ibmq-provider==0.18.3->qiskit) (2.8.2)\n",
      "Requirement already satisfied: urllib3>=1.21.1 in /home/vladimir/.local/lib/python3.10/site-packages (from qiskit-ibmq-provider==0.18.3->qiskit) (1.26.13)\n",
      "Requirement already satisfied: requests-ntlm>=1.1.0 in /home/vladimir/.local/lib/python3.10/site-packages (from qiskit-ibmq-provider==0.18.3->qiskit) (1.1.0)\n",
      "Requirement already satisfied: setuptools>=40.1.0 in /usr/lib/python3.10/site-packages (from qiskit-ignis==0.7.0->qiskit) (67.6.1)\n",
      "Requirement already satisfied: retworkx>=0.8.0 in /home/vladimir/.local/lib/python3.10/site-packages (from qiskit-ignis==0.7.0->qiskit) (0.11.0)\n",
      "Requirement already satisfied: ply>=3.10 in /usr/lib/python3.10/site-packages (from qiskit-terra==0.19.1->qiskit) (3.11)\n",
      "Requirement already satisfied: dill>=0.3 in /home/vladimir/.local/lib/python3.10/site-packages (from qiskit-terra==0.19.1->qiskit) (0.3.4)\n",
      "Requirement already satisfied: symengine>=0.8 in /home/vladimir/.local/lib/python3.10/site-packages (from qiskit-terra==0.19.1->qiskit) (0.8.1)\n",
      "Requirement already satisfied: sympy>=1.3 in /home/vladimir/.local/lib/python3.10/site-packages (from qiskit-terra==0.19.1->qiskit) (1.9)\n",
      "Requirement already satisfied: python-constraint>=1.4 in /home/vladimir/.local/lib/python3.10/site-packages (from qiskit-terra==0.19.1->qiskit) (1.4.0)\n",
      "Requirement already satisfied: tweedledum<2.0,>=1.1 in /home/vladimir/.local/lib/python3.10/site-packages (from qiskit-terra==0.19.1->qiskit) (1.1.1)\n",
      "Requirement already satisfied: stevedore>=3.0.0 in /home/vladimir/.local/lib/python3.10/site-packages (from qiskit-terra==0.19.1->qiskit) (3.5.0)\n",
      "Requirement already satisfied: psutil>=5 in /usr/lib/python3.10/site-packages (from qiskit-terra==0.19.1->qiskit) (5.9.4)\n",
      "Requirement already satisfied: six>=1.5 in /usr/lib/python3.10/site-packages (from python-dateutil>=2.8.0->qiskit-ibmq-provider==0.18.3->qiskit) (1.16.0)\n",
      "Requirement already satisfied: charset-normalizer<3,>=2 in /home/vladimir/.local/lib/python3.10/site-packages (from requests>=2.19->qiskit-ibmq-provider==0.18.3->qiskit) (2.1.1)\n",
      "Requirement already satisfied: certifi>=2017.4.17 in /home/vladimir/.local/lib/python3.10/site-packages (from requests>=2.19->qiskit-ibmq-provider==0.18.3->qiskit) (2022.12.7)\n",
      "Requirement already satisfied: idna<4,>=2.5 in /home/vladimir/.local/lib/python3.10/site-packages (from requests>=2.19->qiskit-ibmq-provider==0.18.3->qiskit) (3.4)\n",
      "Requirement already satisfied: cryptography>=1.3 in /usr/lib/python3.10/site-packages (from requests-ntlm>=1.1.0->qiskit-ibmq-provider==0.18.3->qiskit) (40.0.1)\n",
      "Requirement already satisfied: ntlm-auth>=1.0.2 in /home/vladimir/.local/lib/python3.10/site-packages (from requests-ntlm>=1.1.0->qiskit-ibmq-provider==0.18.3->qiskit) (1.5.0)\n",
      "Requirement already satisfied: pbr!=2.1.0,>=2.0.0 in /home/vladimir/.local/lib/python3.10/site-packages (from stevedore>=3.0.0->qiskit-terra==0.19.1->qiskit) (5.8.1)\n",
      "Requirement already satisfied: mpmath>=0.19 in /home/vladimir/.local/lib/python3.10/site-packages (from sympy>=1.3->qiskit-terra==0.19.1->qiskit) (1.2.1)\n",
      "Requirement already satisfied: cffi>=1.12 in /usr/lib/python3.10/site-packages (from cryptography>=1.3->requests-ntlm>=1.1.0->qiskit-ibmq-provider==0.18.3->qiskit) (1.15.1)\n",
      "Requirement already satisfied: pycparser in /usr/lib/python3.10/site-packages (from cffi>=1.12->cryptography>=1.3->requests-ntlm>=1.1.0->qiskit-ibmq-provider==0.18.3->qiskit) (2.21)\n",
      "Requirement already satisfied: platformdirs in /home/vladimir/.local/lib/python3.10/site-packages (from setuptools>=40.1.0->qiskit-ignis==0.7.0->qiskit) (2.5.0)\n",
      "Requirement already satisfied: jaraco.text in /usr/lib/python3.10/site-packages (from setuptools>=40.1.0->qiskit-ignis==0.7.0->qiskit) (3.11.1)\n",
      "Requirement already satisfied: more-itertools in /usr/lib/python3.10/site-packages (from setuptools>=40.1.0->qiskit-ignis==0.7.0->qiskit) (9.1.0)\n",
      "Requirement already satisfied: ordered-set in /usr/lib/python3.10/site-packages (from setuptools>=40.1.0->qiskit-ignis==0.7.0->qiskit) (4.1.0)\n",
      "Requirement already satisfied: packaging in /usr/lib/python3.10/site-packages (from setuptools>=40.1.0->qiskit-ignis==0.7.0->qiskit) (23.0)\n",
      "Requirement already satisfied: tomli in /usr/lib/python3.10/site-packages (from setuptools>=40.1.0->qiskit-ignis==0.7.0->qiskit) (2.0.1)\n",
      "Requirement already satisfied: validate-pyproject in /usr/lib/python3.10/site-packages (from setuptools>=40.1.0->qiskit-ignis==0.7.0->qiskit) (0.12.2.post1.dev0+g2940279.d20230328)\n",
      "Requirement already satisfied: inflect in /usr/lib/python3.10/site-packages (from jaraco.text->setuptools>=40.1.0->qiskit-ignis==0.7.0->qiskit) (6.0.4)\n",
      "Requirement already satisfied: jaraco.functools in /usr/lib/python3.10/site-packages (from jaraco.text->setuptools>=40.1.0->qiskit-ignis==0.7.0->qiskit) (3.6.0)\n",
      "Requirement already satisfied: jaraco.context>=4.1 in /usr/lib/python3.10/site-packages (from jaraco.text->setuptools>=40.1.0->qiskit-ignis==0.7.0->qiskit) (4.3.0)\n",
      "Requirement already satisfied: autocommand in /usr/lib/python3.10/site-packages (from jaraco.text->setuptools>=40.1.0->qiskit-ignis==0.7.0->qiskit) (2.2.2)\n",
      "Requirement already satisfied: fastjsonschema<=3,>=2.16.2 in /usr/lib/python3.10/site-packages (from validate-pyproject->setuptools>=40.1.0->qiskit-ignis==0.7.0->qiskit) (2.16.3)\n",
      "Requirement already satisfied: pydantic>=1.9.1 in /usr/lib/python3.10/site-packages (from inflect->jaraco.text->setuptools>=40.1.0->qiskit-ignis==0.7.0->qiskit) (1.10.7)\n",
      "Requirement already satisfied: typing-extensions>=4.2.0 in /usr/lib/python3.10/site-packages (from pydantic>=1.9.1->inflect->jaraco.text->setuptools>=40.1.0->qiskit-ignis==0.7.0->qiskit) (4.5.0)\n"
     ]
    }
   ],
   "source": [
    "!pip install qiskit"
   ]
  },
  {
   "cell_type": "code",
   "execution_count": 417,
   "id": "f008609d",
   "metadata": {},
   "outputs": [],
   "source": [
    "from collections import defaultdict\n",
    "logs = defaultdict(lambda: defaultdict(list))"
   ]
  },
  {
   "cell_type": "code",
   "execution_count": 571,
   "id": "2ba16fd8",
   "metadata": {},
   "outputs": [
    {
     "data": {
      "text/plain": [
       "defaultdict(list, {})"
      ]
     },
     "execution_count": 571,
     "metadata": {},
     "output_type": "execute_result"
    }
   ],
   "source": [
    "logs[3]"
   ]
  },
  {
   "cell_type": "code",
   "execution_count": 572,
   "id": "7975f26e",
   "metadata": {
    "id": "7975f26e"
   },
   "outputs": [],
   "source": [
    "import qiskit\n",
    "from qiskit import QuantumCircuit, QuantumRegister, ClassicalRegister\n",
    "from qiskit import Aer, transpile, assemble\n",
    "import math\n",
    "import random\n",
    "import numpy as np\n",
    "from scipy.optimize import minimize\n",
    "from itertools import groupby"
   ]
  },
  {
   "cell_type": "code",
   "execution_count": 573,
   "id": "4942fd69",
   "metadata": {},
   "outputs": [],
   "source": [
    "N = 3\n",
    "n_qubits = range(1, N+1)\n",
    "n0_qubits = range(0, N)"
   ]
  },
  {
   "cell_type": "code",
   "execution_count": 574,
   "id": "2545cd17",
   "metadata": {
    "colab": {
     "base_uri": "https://localhost:8080/"
    },
    "id": "2545cd17",
    "outputId": "2daf044e-4682-4a98-9053-c563edefe0e2"
   },
   "outputs": [
    {
     "data": {
      "text/plain": [
       "array([[0.       , 0.       , 0.       , 0.       , 0.       , 0.       ,\n",
       "        0.5589028, 0.       ],\n",
       "       [0.       , 0.       , 0.       , 0.       , 0.       , 0.       ,\n",
       "        0.       , 0.5589028],\n",
       "       [0.       , 0.       , 0.       , 0.       , 0.5589028, 0.       ,\n",
       "        0.       , 0.       ],\n",
       "       [0.       , 0.       , 0.       , 0.       , 0.       , 0.5589028,\n",
       "        0.       , 0.       ],\n",
       "       [0.       , 0.       , 0.5589028, 0.       , 0.       , 0.       ,\n",
       "        0.       , 0.       ],\n",
       "       [0.       , 0.       , 0.       , 0.5589028, 0.       , 0.       ,\n",
       "        0.       , 0.       ],\n",
       "       [0.5589028, 0.       , 0.       , 0.       , 0.       , 0.       ,\n",
       "        0.       , 0.       ],\n",
       "       [0.       , 0.5589028, 0.       , 0.       , 0.       , 0.       ,\n",
       "        0.       , 0.       ]])"
      ]
     },
     "execution_count": 574,
     "metadata": {},
     "output_type": "execute_result"
    }
   ],
   "source": [
    "pauli_mats = {\n",
    "    0: np.array([\n",
    "        [1, 0], \n",
    "        [0, 1]]),\n",
    "    1: np.array([\n",
    "        [0, 1], \n",
    "        [1, 0]]),\n",
    "    2: np.array([\n",
    "        [0, -1j], \n",
    "        [1j, 0]]),\n",
    "    3: np.array([\n",
    "        [1, 0], \n",
    "        [0, -1]]),}\n",
    "\n",
    "def pauli_gate_to_mat(gate):\n",
    "    res = np.array([[1]])\n",
    "    \n",
    "    for pauli_type in (gate):\n",
    "#         print(np.tensordot(res, pauli_mats[pauli_type], axes=0).shape)\n",
    "        res = np.transpose(np.tensordot(res, pauli_mats[pauli_type], axes=0), [1, 2, 0, 3]).reshape(len(res)*2, len(res)*2)\n",
    "        \n",
    "    return res\n",
    "    \n",
    "\n",
    "def gate_sets_to_mat(gate_set, coefficient_set):\n",
    "    matrix_size = len(gate_set[0])\n",
    "    res = np.zeros((2**matrix_size, 2**matrix_size))\n",
    "    \n",
    "    for gate, coeff in (list(zip(gate_set, coefficient_set))):\n",
    "        res += pauli_gate_to_mat(gate) * coeff\n",
    "        \n",
    "    return res\n",
    "\n",
    "available_paulis = [1]\n",
    "\n",
    "def generator_mat2():\n",
    "    coefficient_set = []\n",
    "    I = [0 for _ in range(N)]\n",
    "    gate_set = []\n",
    "    \n",
    "    for j in range(N):\n",
    "        for k in range(N):\n",
    "            if j == k:\n",
    "                continue\n",
    "                \n",
    "            if np.random.rand() < 0.5:\n",
    "                continue\n",
    "            \n",
    "            ajk = np.random.rand() * 2 - 1 # [-1, 1]\n",
    "            \n",
    "            alpha, beta = np.random.choice(available_paulis, 2)\n",
    "            \n",
    "            gate = I.copy()\n",
    "            gate[j] = alpha\n",
    "            gate[k] = alpha\n",
    "            \n",
    "            coefficient_set.append(ajk)\n",
    "            gate_set.append(gate)\n",
    "            \n",
    "            \n",
    "            \n",
    "            \n",
    "    return coefficient_set, gate_set\n",
    "    \n",
    "    \n",
    "coefficient_set, gate_set = generator_mat2() \n",
    "\n",
    "gate_sets_to_mat(gate_set, coefficient_set)\n"
   ]
  },
  {
   "cell_type": "code",
   "execution_count": 575,
   "id": "3572e9f6",
   "metadata": {
    "id": "3572e9f6"
   },
   "outputs": [],
   "source": [
    "import math\n",
    "\n",
    "class MatrixGenerator:\n",
    "    def generate():\n",
    "        raise NotImplementedError\n",
    "        \n",
    "class Ansatz:\n",
    "    \n",
    "    parameters_shape = 0\n",
    "    \n",
    "    def get_paramenters_size(self):\n",
    "        return math.prod(self.parameters_shape)\n",
    "    \n",
    "    def reshape_parameters(self, parameters):\n",
    "        return np.reshape(parameters, self.parameters_shape)\n",
    "    \n",
    "    def generate(self, parameters):\n",
    "        out_f = self.reshape_parameters(parameters)\n",
    "\n",
    "        circ = QuantumCircuit(N, N)\n",
    "        self.apply(circ, n0_qubits, out_f)\n",
    "        circ.save_statevector()\n",
    "\n",
    "        backend = Aer.get_backend('aer_simulator')\n",
    "\n",
    "        t_circ = transpile(circ, backend)\n",
    "        qobj = assemble(t_circ)\n",
    "        job = backend.run(qobj)\n",
    "\n",
    "        result = job.result()\n",
    "        o = result.get_statevector(circ, decimals=10)\n",
    "        \n",
    "        return o\n",
    "    \n",
    "    def apply(self, qubits, parameters):\n",
    "        raise NotImplementedError\n",
    "        \n",
    "    def apply_control(self, qubits, parameters, auxiliary, reg):\n",
    "        raise NotImplementedError\n",
    "    \n",
    "class CostFunction:\n",
    "    def __init__(self, ansatz, gate_set, coefficient_set, circ):\n",
    "        self.ansatz = ansatz\n",
    "        self.gate_set = gate_set\n",
    "        self.coefficient_set = coefficient_set\n",
    "        self.circ = circ\n",
    "        \n",
    "    def had_test(self, circ, gate_type, qubits, auxiliary_index, parameters):\n",
    "\n",
    "        circ.h(auxiliary_index)\n",
    "\n",
    "        self.ansatz.apply(circ, qubits, parameters)\n",
    "\n",
    "        for ie in range (0, len(gate_type[0])):\n",
    "            if (gate_type[0][ie] == 1):\n",
    "                circ.cx(auxiliary_index, qubits[ie])\n",
    "            elif (gate_type[0][ie] == 2):\n",
    "                circ.cy(auxiliary_index, qubits[ie])\n",
    "            elif (gate_type[0][ie] == 3):\n",
    "                circ.cz(auxiliary_index, qubits[ie])\n",
    "\n",
    "        for ie in range (0, len(gate_type[1])):\n",
    "            if (gate_type[1][ie] == 1):\n",
    "                circ.cx(auxiliary_index, qubits[ie])\n",
    "            elif (gate_type[1][ie] == 2):\n",
    "                circ.cy(auxiliary_index, qubits[ie])\n",
    "            elif (gate_type[1][ie] == 3):\n",
    "                circ.cz(auxiliary_index, qubits[ie])\n",
    "\n",
    "        circ.h(auxiliary_index)\n",
    "        \n",
    "    def special_had_test(self, circ, control_b, gate_type, qubits, auxiliary_index, parameters, reg):\n",
    "\n",
    "        circ.h(auxiliary_index)\n",
    "\n",
    "        self.ansatz.apply_control(circ, qubits, parameters, auxiliary_index, reg)\n",
    "\n",
    "        for ty in range (0, len(gate_type)):\n",
    "            if (gate_type[ty] == 1):\n",
    "                circ.cx(auxiliary_index, qubits[ty])\n",
    "            elif (gate_type[ty] == 2):\n",
    "                circ.cy(auxiliary_index, qubits[ty])\n",
    "            elif (gate_type[ty] == 3):\n",
    "                circ.cz(auxiliary_index, qubits[ty])\n",
    "\n",
    "        # U|0) = b\n",
    "        control_b(circ, auxiliary_index, qubits)\n",
    "\n",
    "        circ.h(auxiliary_index)\n",
    "        \n",
    "    def calculate(parameters):\n",
    "        raise NotImplementedError"
   ]
  },
  {
   "cell_type": "code",
   "execution_count": 576,
   "id": "8e418909",
   "metadata": {
    "id": "8e418909"
   },
   "outputs": [],
   "source": [
    "class AnsatzRY(Ansatz):\n",
    "    \n",
    "    parameters_shape = (N, N)\n",
    "    \n",
    "    def apply(self, circ, qubits, parameters):\n",
    "        for iz in range (0, N):\n",
    "            circ.ry(parameters[0][iz], qubits[iz])\n",
    "\n",
    "        circ.cz(qubits[0], qubits[1])\n",
    "#         circ.cz(qubits[2], qubits[0])\n",
    "\n",
    "        for iz in range (0, N):\n",
    "            circ.ry(parameters[1][iz], qubits[iz])\n",
    "\n",
    "        circ.cz(qubits[1], qubits[2])\n",
    "#         circ.cz(qubits[2], qubits[0])\n",
    "\n",
    "        for iz in range (0, N):\n",
    "            circ.ry(parameters[2][iz], qubits[iz])\n",
    "            \n",
    "            \n",
    "    def apply_control(self, circ, qubits, parameters, auxiliary, reg):\n",
    "        for i in range (0, N):\n",
    "            circ.cry(parameters[0][i], qiskit.circuit.Qubit(reg, auxiliary), qiskit.circuit.Qubit(reg, qubits[i]))\n",
    "\n",
    "        circ.ccx(auxiliary, qubits[1], N+1)\n",
    "        circ.cz(qubits[0], N+1)\n",
    "        circ.ccx(auxiliary, qubits[1], N+1)\n",
    "\n",
    "#         circ.ccx(auxiliary, qubits[0], N+1)\n",
    "#         circ.cz(qubits[2], N+1)\n",
    "#         circ.ccx(auxiliary, qubits[0], N+1)\n",
    "\n",
    "        for i in range (0, N):\n",
    "            circ.cry(parameters[1][i], qiskit.circuit.Qubit(reg, auxiliary), qiskit.circuit.Qubit(reg, qubits[i]))\n",
    "\n",
    "        circ.ccx(auxiliary, qubits[2], N+1)\n",
    "        circ.cz(qubits[1], N+1)\n",
    "        circ.ccx(auxiliary, qubits[2], N+1)\n",
    "\n",
    "#         circ.ccx(auxiliary, qubits[0], N+1)\n",
    "#         circ.cz(qubits[2], N+1)\n",
    "#         circ.ccx(auxiliary, qubits[0], N+1)\n",
    "\n",
    "        for i in range (0, len(qubits)):\n",
    "            circ.cry(parameters[2][i], qiskit.circuit.Qubit(reg, auxiliary), qiskit.circuit.Qubit(reg, qubits[i]))"
   ]
  },
  {
   "cell_type": "code",
   "execution_count": 577,
   "id": "01f4409d",
   "metadata": {},
   "outputs": [],
   "source": [
    "class AnsatzHERY(Ansatz):\n",
    "    \n",
    "    parameters_shape = (N, N)\n",
    "    \n",
    "    def apply(self, circ, qubits, parameters):\n",
    "        \n",
    "        layer_count = self.parameters_shape[0]\n",
    "        \n",
    "        for layer in range(0, layer_count):\n",
    "            \n",
    "            for i in range (0, N):\n",
    "                circ.ry(parameters[layer][i], qubits[i])\n",
    "              \n",
    "            if layer != layer_count-1:\n",
    "                for iz in range (layer % 2, N-1, 2):\n",
    "                    circ.cz(qubits[iz], qubits[iz+1])\n",
    "        \n",
    "            \n",
    "            \n",
    "    def apply_control(self, circ, qubits, parameters, auxiliary, reg):\n",
    "        \n",
    "        layer_count = self.parameters_shape[0]\n",
    "        \n",
    "        for layer in range(0, layer_count):\n",
    "            \n",
    "            for i in range (0, len(qubits)):\n",
    "                circ.cry(parameters[layer][i], qiskit.circuit.Qubit(reg, auxiliary), qiskit.circuit.Qubit(reg, qubits[i]))\n",
    "\n",
    "            if layer != layer_count-1:\n",
    "                for iz in range (layer % 2, N-1, 2):\n",
    "                    circ.ccx(auxiliary, qubits[iz+1], N+1)\n",
    "                    circ.cz(qubits[iz], N+1)\n",
    "                    circ.ccx(auxiliary, qubits[iz+1], N+1)\n",
    "\n"
   ]
  },
  {
   "cell_type": "code",
   "execution_count": 578,
   "id": "c54d6e52",
   "metadata": {},
   "outputs": [],
   "source": [
    "# (N, iteration, cost)  \n"
   ]
  },
  {
   "cell_type": "code",
   "execution_count": 579,
   "id": "f9383215",
   "metadata": {
    "id": "f9383215"
   },
   "outputs": [],
   "source": [
    "# Implements the entire cost function on the quantum circuit\n",
    "\n",
    "iteration_number = 0\n",
    "\n",
    "class MyCostFunction(CostFunction):\n",
    "    \n",
    "    def cost_calculate(self, parameters, print_logs=True):\n",
    "\n",
    "        global opt\n",
    "\n",
    "        overall_sum_1 = 0\n",
    "\n",
    "        new_parameters = self.ansatz.reshape_parameters(parameters)\n",
    "\n",
    "        for i in range(0, len(self.gate_set)):\n",
    "            for j in range(0, len(self.gate_set)):\n",
    "\n",
    "                qctl = QuantumRegister(N+2)\n",
    "                qc = ClassicalRegister(N+2)\n",
    "                circ = QuantumCircuit(qctl, qc)\n",
    "\n",
    "                backend = Aer.get_backend('aer_simulator')\n",
    "\n",
    "                multiply = self.coefficient_set[i]*self.coefficient_set[j]\n",
    "\n",
    "                self.had_test(circ, [self.gate_set[i], self.gate_set[j]], n_qubits, 0, new_parameters)\n",
    "\n",
    "                circ.save_statevector()\n",
    "                t_circ = transpile(circ, backend)\n",
    "                qobj = assemble(t_circ)\n",
    "                job = backend.run(qobj)\n",
    "\n",
    "                result = job.result()\n",
    "                outputstate = np.real(result.get_statevector(circ, decimals=100))\n",
    "                o = outputstate\n",
    "\n",
    "                m_sum = 0\n",
    "                for l in range (0, len(o)):\n",
    "                    if (l%2 == 1):\n",
    "                        n = o[l]**2\n",
    "                        m_sum+=n\n",
    "\n",
    "                overall_sum_1+=multiply*(1-(2*m_sum))\n",
    "\n",
    "        overall_sum_2 = 0\n",
    "\n",
    "        for i in range(0, len(self.gate_set)):\n",
    "            for j in range(0, len(self.gate_set)):\n",
    "\n",
    "                multiply = self.coefficient_set[i]*self.coefficient_set[j]\n",
    "                mult = 1\n",
    "\n",
    "                for extra in range(0, 2):\n",
    "\n",
    "                    qctl = QuantumRegister(N+2)\n",
    "                    qc = ClassicalRegister(N+2)\n",
    "                    circ = QuantumCircuit(qctl, qc)\n",
    "\n",
    "                    backend = Aer.get_backend('aer_simulator')\n",
    "\n",
    "                    if (extra == 0):\n",
    "                        self.special_had_test(circ, control_b, self.gate_set[i], n_qubits, 0, new_parameters, qctl)\n",
    "                    if (extra == 1):\n",
    "                        self.special_had_test(circ, control_b, self.gate_set[j], n_qubits, 0, new_parameters, qctl)\n",
    "\n",
    "                    circ.save_statevector()    \n",
    "                    t_circ = transpile(circ, backend)\n",
    "                    qobj = assemble(t_circ)\n",
    "                    job = backend.run(qobj)\n",
    "\n",
    "                    result = job.result()\n",
    "                    outputstate = np.real(result.get_statevector(circ, decimals=100))\n",
    "                    o = outputstate\n",
    "\n",
    "                    m_sum = 0\n",
    "                    for l in range (0, len(o)):\n",
    "                        if (l%2 == 1):\n",
    "                            n = o[l]**2\n",
    "                            m_sum+=n\n",
    "                    mult = mult*(1-(2*m_sum))\n",
    "\n",
    "                overall_sum_2+=multiply*mult\n",
    "\n",
    "        cost = 1 - float(overall_sum_2/overall_sum_1)\n",
    "        \n",
    "        global iteration_number\n",
    "        \n",
    "        if iteration_number % 10 == 0:\n",
    "            result = self.ansatz.generate(parameters)\n",
    "            \n",
    "            Phi = A @ result.data\n",
    "            \n",
    "            if Phi[0] < 0:\n",
    "                Phi *= -1;\n",
    "            \n",
    "            nrm = np.linalg.norm(Phi)\n",
    "            \n",
    "            Phi2 = Phi / (Phi @ Phi)**0.5\n",
    "\n",
    "            diff = np.linalg.norm(Phi2 - b)\n",
    "            \n",
    "            mat_cost1 = Phi.reshape(1, -1) @ Hp @ Phi\n",
    "            \n",
    "            mat_cost2 = 1 - abs(b @ Phi2)**2 / (Phi @ Phi2)\n",
    "            \n",
    "            print('cost:', (mat_cost1, mat_cost2), '\\ndata:', np.real(result.data), '\\ndiff:', np.real(diff), '\\nPhi:', np.real(Phi), '\\nPhi2:', np.real(Phi2))\n",
    "            \n",
    "            #np.real(result.data.reshape(1, -1) @ Hp @ result.data)[0]\n",
    "\n",
    "            global logs\n",
    "\n",
    "            logs[N][iteration_number].append(diff)\n",
    "        \n",
    "        \n",
    "        if print_logs:\n",
    "            print(cost)\n",
    "            \n",
    "        iteration_number += 1\n",
    "\n",
    "        return cost\n"
   ]
  },
  {
   "cell_type": "code",
   "execution_count": 580,
   "id": "d3c0118f",
   "metadata": {
    "id": "d3c0118f"
   },
   "outputs": [],
   "source": [
    "class VQLS:\n",
    "    \n",
    "    def __init__(self, ansatz, cost_function, optimizer=\"COBYLA\", maxiter = 200):\n",
    "        self.ansatz = ansatz\n",
    "        self.cost_function = cost_function\n",
    "        self.optimizer = optimizer\n",
    "        self.maxiter = maxiter\n",
    "        \n",
    "    \n",
    "    def calc_cost(self, gate_set, coefficient_set):\n",
    "        circ = QuantumCircuit(N, N)\n",
    "        return self.cost_function(self.ansatz, gate_set, coefficient_set, circ).cost_calculate(parameters)\n",
    "        \n",
    "        \n",
    "    def predict(self, gate_set, coefficient_set, print_logs=True):\n",
    "        circ = QuantumCircuit(N, N)\n",
    "        global iteration_number\n",
    "        iteration_number = 0\n",
    "        def calc_cost_function(parameters):\n",
    "            return self.cost_function(self.ansatz, gate_set, coefficient_set, circ).cost_calculate(parameters, print_logs) # (parameters -> float)\n",
    "        start_parameters = [float(random.randint(0,3000))/1000 for i in range(0, self.ansatz.get_paramenters_size())]\n",
    "        out = minimize(calc_cost_function, x0=start_parameters, method=\"COBYLA\", options={'maxiter': self.maxiter})\n",
    "        if print_logs:\n",
    "            print(out)\n",
    "\n",
    "        out_f = self.ansatz.reshape_parameters(out['x'])\n",
    "\n",
    "        circ = QuantumCircuit(N, N)\n",
    "        self.ansatz.apply(circ, n0_qubits, out_f)\n",
    "        circ.save_statevector()\n",
    "\n",
    "        backend = Aer.get_backend('aer_simulator')\n",
    "\n",
    "        t_circ = transpile(circ, backend)\n",
    "        qobj = assemble(t_circ)\n",
    "        job = backend.run(qobj)\n",
    "\n",
    "        result = job.result()\n",
    "        o = result.get_statevector(circ, decimals=10)\n",
    "        \n",
    "        return o, out_f\n",
    "        \n",
    "        "
   ]
  },
  {
   "cell_type": "code",
   "execution_count": null,
   "id": "651f209b",
   "metadata": {
    "id": "651f209b"
   },
   "outputs": [],
   "source": []
  },
  {
   "cell_type": "code",
   "execution_count": 581,
   "id": "7429df20",
   "metadata": {
    "id": "7429df20"
   },
   "outputs": [],
   "source": [
    "vqls = VQLS(AnsatzHERY(), MyCostFunction)"
   ]
  },
  {
   "cell_type": "code",
   "execution_count": 582,
   "id": "74d9faad",
   "metadata": {
    "colab": {
     "base_uri": "https://localhost:8080/",
     "height": 156
    },
    "id": "74d9faad",
    "outputId": "67d0a9f7-9f2a-43d7-e4a0-7c03e881d4e2"
   },
   "outputs": [
    {
     "data": {
      "text/html": [
       "<pre style=\"word-wrap: normal;white-space: pre;background: #fff0;line-height: 1.1;font-family: &quot;Courier New&quot;,Courier,monospace\">                    \n",
       "q_0: ──■────■────■──\n",
       "     ┌─┴─┐  │    │  \n",
       "q_1: ┤ H ├──┼────┼──\n",
       "     └───┘┌─┴─┐  │  \n",
       "q_2: ─────┤ H ├──┼──\n",
       "          └───┘┌─┴─┐\n",
       "q_3: ──────────┤ H ├\n",
       "               └───┘</pre>"
      ],
      "text/plain": [
       "                    \n",
       "q_0: ──■────■────■──\n",
       "     ┌─┴─┐  │    │  \n",
       "q_1: ┤ H ├──┼────┼──\n",
       "     └───┘┌─┴─┐  │  \n",
       "q_2: ─────┤ H ├──┼──\n",
       "          └───┘┌─┴─┐\n",
       "q_3: ──────────┤ H ├\n",
       "               └───┘"
      ]
     },
     "execution_count": 582,
     "metadata": {},
     "output_type": "execute_result"
    }
   ],
   "source": [
    "def control_b(circ, auxiliary, qubits):\n",
    "\n",
    "    for ia in qubits:\n",
    "        circ.ch(auxiliary, ia)\n",
    "        \n",
    "\n",
    "\n",
    "circ = QuantumCircuit(N+1)\n",
    "control_b(circ, 0, n_qubits)\n",
    "circ.draw()\n",
    "\n",
    "b = (np.ones(2**N) / 2**N) ** 0.5\n",
    "\n",
    "Hp = np.eye(2**N) - b.reshape(-1, 1) @ b.reshape(1, -1)\n",
    "\n",
    "circ.draw()"
   ]
  },
  {
   "cell_type": "code",
   "execution_count": 583,
   "id": "472bc300",
   "metadata": {},
   "outputs": [
    {
     "name": "stdout",
     "output_type": "stream",
     "text": [
      "[0.35355339 0.35355339 0.35355339 0.35355339 0.35355339 0.35355339\n",
      " 0.35355339 0.35355339]\n"
     ]
    }
   ],
   "source": [
    "print(b)"
   ]
  },
  {
   "cell_type": "code",
   "execution_count": 584,
   "id": "fb05ba32",
   "metadata": {
    "colab": {
     "base_uri": "https://localhost:8080/",
     "height": 403
    },
    "id": "fb05ba32",
    "outputId": "b3f3d7de-ac67-4a7d-a2ec-b36f06b267d0"
   },
   "outputs": [
    {
     "name": "stdout",
     "output_type": "stream",
     "text": [
      "cost: (array([2.46742508+0.j]), (0.984432253149556+0j)) \n",
      "data: [-0.02405999 -0.19747127  0.08719266 -0.53692871  0.23674882  0.70230198\n",
      " -0.10787388  0.32189496] \n",
      "diff: 1.5214208454215798 \n",
      "Phi: [ 0.91359097 -0.23117055  0.1781585  -0.46073897 -0.48979131  0.46266399\n",
      " -0.96465151 -0.11601998] \n",
      "Phi2: [ 0.57436112 -0.1453335   0.11200561 -0.28965977 -0.30792454  0.29087\n",
      " -0.60646213 -0.07294005]\n",
      "0.9722879207503737\n",
      "0.9817743546445789\n",
      "0.9049739620573036\n",
      "0.8777292946692518\n",
      "0.8564999471198247\n",
      "0.6521329312374662\n",
      "0.3867896580071225\n",
      "0.6611942010284969\n",
      "0.28038006860044784\n",
      "0.47117167297449125\n",
      "cost: (array([0.85457145+0.j]), (0.6043593486397906+0j)) \n",
      "data: [-0.06737946  0.56392582  0.27994248  0.71206645 -0.0432476   0.09384465\n",
      "  0.12598109  0.25591571] \n",
      "diff: 0.7298902053443738 \n",
      "Phi: [ 0.86829581  0.50057674  0.5364681  -0.05758935  0.29172768  0.62615047\n",
      " -0.16655047  0.22369164] \n",
      "Phi2: [ 0.63828447  0.36797409  0.39435783 -0.04233394  0.21444909  0.46028337\n",
      " -0.12243129  0.16443578]\n",
      "0.4765054426660932\n",
      "0.45370947688011243\n",
      "0.42282048289002105\n",
      "0.3859714554064515\n",
      "0.49844765463047547\n",
      "0.16799704200386956\n",
      "0.07930293078162653\n",
      "0.06225091903851232\n",
      "0.1225235018332077\n",
      "0.08523422566560157\n",
      "cost: (array([0.08664433+0.j]), (0.304761401951661+0j)) \n",
      "data: [0.09609727 0.42044169 0.52226545 0.34757961 0.26869823 0.51016111\n",
      " 0.17538335 0.23916291] \n",
      "diff: 0.21577750408627236 \n",
      "Phi: [0.34687117 0.66682384 0.57858046 0.38282216 0.47543959 0.39457004\n",
      " 0.53500331 0.41060681] \n",
      "Phi2: [0.25279116 0.48596478 0.42165519 0.27899136 0.34648866 0.28755293\n",
      " 0.38989723 0.29924013]\n",
      "0.05527798867265821\n",
      "0.03840092814804297\n",
      "0.04337052460214064\n",
      "0.04122964061069434\n",
      "0.021858544647781697\n",
      "0.035907355954715614\n",
      "0.02778201462583807\n",
      "0.02765261625266202\n",
      "0.0417154092567803\n",
      "0.027721260927752955\n",
      "cost: (array([0.05862333+0.j]), (0.3245852261870519+0j)) \n",
      "data: [0.27565573 0.43256922 0.51376051 0.26411303 0.31605976 0.39675417\n",
      " 0.31542443 0.21538804] \n",
      "diff: 0.1689036509817184 \n",
      "Phi: [0.37822304 0.62636282 0.6307828  0.47033653 0.4387274  0.44324435\n",
      " 0.54779517 0.47555869] \n",
      "Phi2: [0.26290419 0.43538703 0.43845937 0.3269326  0.30496098 0.30810073\n",
      " 0.38077438 0.33056254]\n",
      "0.015633970502024197\n",
      "0.02037320949077337\n",
      "0.022968667070641824\n",
      "0.010880384579083024\n",
      "0.005842856986371103\n",
      "0.0033670961704239666\n",
      "0.03109222203453177\n",
      "0.01557938751500687\n",
      "0.005328616648124562\n",
      "0.0037709006146664503\n",
      "cost: (array([0.06574714+0.j]), (0.3189245506163485+0j)) \n",
      "data: [0.37955673 0.45671015 0.53265451 0.31533093 0.21492849 0.26596593\n",
      " 0.33249761 0.19160195] \n",
      "diff: 0.1812644995962048 \n",
      "Phi: [0.49042553 0.66547107 0.60091404 0.49963579 0.41579725 0.46223464\n",
      " 0.44814153 0.36893211] \n",
      "Phi2: [0.34526801 0.46850308 0.42305382 0.35175219 0.29272842 0.32542114\n",
      " 0.31549935 0.25973455]\n",
      "0.006778302721300977\n",
      "0.0027528570727815005\n",
      "0.00391738872999936\n",
      "0.0022184489093612925\n",
      "0.006276784806311664\n",
      "0.0027295229984486413\n",
      "0.003956285416980343\n",
      "0.002598256021025036\n",
      "0.0022892611312760325\n",
      "0.002897754434486144\n",
      "cost: (array([0.04335566+0.j]), (0.31884394080317013+0j)) \n",
      "data: [0.34500702 0.45556082 0.49366783 0.30893967 0.23828001 0.31879324\n",
      " 0.35680255 0.22038218] \n",
      "diff: 0.14525454639142388 \n",
      "Phi: [0.48165903 0.63173046 0.60534269 0.48620382 0.4240372  0.49720538\n",
      " 0.48854835 0.40763052] \n",
      "Phi2: [0.3351183  0.43953174 0.42117223 0.33828037 0.29502743 0.3459348\n",
      " 0.3399116  0.28361234]\n",
      "0.0027149929425656083\n",
      "0.0027423890613142987\n",
      "0.002133249262741055\n",
      "0.002075900204376091\n",
      "0.0022342635509429165\n",
      "0.002333942512925069\n",
      "0.0025637268262550528\n",
      "0.0015738502082282002\n",
      "0.0016500842710354124\n",
      "0.0015964682471880653\n",
      "cost: (array([0.03588693+0.j]), (0.3191238599232117+0j)) \n",
      "data: [0.34552082 0.46929327 0.460262   0.33716826 0.23481644 0.32521554\n",
      " 0.33869064 0.24339347] \n",
      "diff: 0.13152958884396895 \n",
      "Phi: [0.50028832 0.60936232 0.61141231 0.49680969 0.42443488 0.49447224\n",
      " 0.48710352 0.42334675] \n",
      "Phi2: [0.34660472 0.42217227 0.42359253 0.34419469 0.2940527  0.34257528\n",
      " 0.33747016 0.29329884]\n",
      "0.0013628023349991913\n",
      "0.0016372519446886669\n",
      "0.001442278877056502\n",
      "0.00130700872895273\n",
      "0.0011815826080158187\n",
      "0.0011382971798955532\n",
      "0.0012136295727670499\n",
      "0.0012816996623021826\n",
      "0.0011801968667174423\n",
      "0.00120197520509302\n",
      "cost: (array([0.0293194+0.j]), (0.31926283076747575+0j)) \n",
      "data: [0.34331388 0.46037845 0.44952774 0.34176808 0.25125354 0.33769747\n",
      " 0.33247602 0.25218728] \n",
      "diff: 0.11842176782184481 \n",
      "Phi: [0.49751107 0.59739052 0.60894058 0.50434861 0.43048859 0.49102334\n",
      " 0.49851595 0.43993845] \n",
      "Phi2: [0.34347418 0.41242944 0.42040344 0.34819471 0.29720286 0.33899514\n",
      " 0.34416793 0.3037269 ]\n",
      "0.0011645779726019434\n",
      "0.0013541574477066165\n",
      "0.0013430189050438468\n",
      "0.0012878314577212668\n",
      "0.001122709774055597\n",
      "0.0011705135066084615\n",
      "0.0011470637145639673\n",
      "0.001071705808693979\n",
      "0.0010463320351308258\n",
      "0.001038050918114819\n",
      "cost: (array([0.02779382+0.j]), (0.31917227472834886+0j)) \n",
      "data: [0.34226775 0.45688607 0.44813542 0.34565621 0.25098609 0.33627626\n",
      " 0.33427345 0.25688491] \n",
      "diff: 0.11521730948553922 \n",
      "Phi: [0.50359524 0.59891168 0.60323656 0.50164771 0.43611397 0.49593577\n",
      " 0.49494907 0.43782805] \n",
      "Phi2: [0.34745882 0.41322302 0.416207   0.34611511 0.30089968 0.34217412\n",
      " 0.34149333 0.30208232]\n",
      "0.0010154105553680237\n",
      "0.0010086312109969242\n",
      "0.0010177100332328104\n",
      "0.001017999901283595\n",
      "0.001024490589584648\n",
      "0.0009585122486432951\n",
      "0.0009402010647664438\n",
      "0.0009519330936834658\n",
      "0.0009497225177615976\n",
      "0.0009254276948703621\n",
      "cost: (array([0.02570423+0.j]), (0.31920304414153533+0j)) \n",
      "data: [0.33702692 0.45029573 0.44789854 0.34506826 0.25556837 0.34112048\n",
      " 0.33809023 0.26072594] \n",
      "diff: 0.11066775039014859 \n",
      "Phi: [0.50381442 0.5996344  0.59738495 0.49752217 0.44250603 0.50163598\n",
      " 0.49731688 0.43891017] \n",
      "Phi2: [0.34723501 0.41327531 0.41172495 0.34289831 0.30498052 0.3457336\n",
      " 0.34275683 0.30250222]\n",
      "0.0009555072199398662\n",
      "0.0009015283567946897\n",
      "0.0008888768011389159\n",
      "0.0008824843568029372\n",
      "0.0008637363358805494\n",
      "0.0008613436117010931\n",
      "0.0009089296705501182\n",
      "0.0008896319911013695\n",
      "0.0008435679667775364\n",
      "0.0008458007715842486\n",
      "cost: (array([0.02342336+0.j]), (0.3192191617298794+0j)) \n",
      "data: [0.34128686 0.44237634 0.44727645 0.34414292 0.26194625 0.33913785\n",
      " 0.34139241 0.26297677] \n",
      "diff: 0.10550792260880018 \n",
      "Phi: [0.50552662 0.59830639 0.5916823  0.50006196 0.44725475 0.50344853\n",
      " 0.49809107 0.44132029] \n",
      "Phi2: [0.34801615 0.41188787 0.40732769 0.34425415 0.30790045 0.34658554\n",
      " 0.34289734 0.30381503]\n",
      "0.0008454881187277552\n",
      "0.0008401071126318271\n",
      "0.0008389060552920213\n",
      "0.0008599310406275373\n",
      "0.0008346026206674795\n",
      "0.0008156391470256485\n",
      "0.0008128730626431047\n",
      "0.0008143015035281254\n",
      "0.0008144112163102069\n",
      "0.0008270924418172232\n",
      "cost: (array([0.02320618+0.j]), (0.3191821756533664+0j)) \n",
      "data: [0.34198227 0.44398515 0.44495541 0.34097778 0.26266949 0.34119943\n",
      " 0.34263076 0.26242332] \n",
      "diff: 0.1050109369896303 \n",
      "Phi: [0.50202469 0.59505038 0.59417533 0.50178981 0.4445996  0.50260128\n",
      " 0.5019323  0.44394135] \n",
      "Phi2: [0.34558775 0.40962551 0.40902314 0.34542606 0.30605701 0.34598467\n",
      " 0.34552415 0.30560388]\n",
      "0.0007926605251367125\n",
      "0.0007882580610344414\n",
      "0.0007881717688943413\n",
      "0.0007921024087048645\n",
      "0.000789856804100264\n",
      "0.0007804769326644756\n",
      "0.0007766870205381249\n",
      "0.0007758638957302555\n",
      "0.0007852348248962304\n",
      "0.0007672158833237352\n",
      "cost: (array([0.02196313+0.j]), (0.3191964136878056+0j)) \n",
      "data: [0.34240153 0.44149998 0.44280882 0.34078395 0.26680799 0.34340498\n",
      " 0.34201748 0.26369711] \n",
      "diff: 0.10208771186025276 \n",
      "Phi: [0.50069147 0.5920674  0.59358155 0.5038937  0.4454814  0.5016363\n",
      " 0.50479752 0.44778323] \n",
      "Phi2: [0.34445305 0.40731555 0.40835722 0.34665604 0.30647103 0.34510305\n",
      " 0.34727783 0.30805458]\n",
      "0.0007585637675555645\n",
      "0.0007632478926314912\n",
      "0.0007736767465624794\n",
      "0.0007372712427907713\n",
      "0.000730482233901375\n",
      "0.0007319703351067464\n",
      "0.0007208806893476138\n",
      "0.0007178533745811899\n",
      "0.0007175657247197043\n",
      "0.0007103657622448134\n",
      "cost: (array([0.0209814+0.j]), (0.31918598028300427+0j)) \n",
      "data: [0.34099913 0.44000648 0.44007483 0.34332701 0.26552292 0.34293179\n",
      " 0.34421755 0.26829878] \n",
      "diff: 0.0997278346040296 \n",
      "Phi: [0.50518433 0.59231633 0.58954617 0.50126539 0.44948266 0.50625801\n",
      " 0.5025248  0.44622997] \n",
      "Phi2: [0.34738293 0.40729803 0.40539317 0.34468813 0.30908046 0.34812123\n",
      " 0.34555414 0.30684379]\n",
      "0.0006982410452994747\n",
      "0.0007311082146106429\n",
      "0.0006934211343964103\n",
      "0.000672091903324068\n",
      "0.0006591487024548703\n",
      "0.0006560334410926627\n"
     ]
    },
    {
     "name": "stdout",
     "output_type": "stream",
     "text": [
      "0.0006583150884209577\n",
      "0.0006580520996196659\n",
      "0.0006571626794777963\n",
      "0.0006611968701871751\n",
      "cost: (array([0.02020185+0.j]), (0.31917827917458996+0j)) \n",
      "data: [0.34357323 0.4394381  0.43750825 0.34183956 0.268464   0.34378483\n",
      " 0.34392718 0.26839713] \n",
      "diff: 0.09781702203522744 \n",
      "Phi: [0.50301296 0.58848046 0.59076057 0.504865   0.44812281 0.50413017\n",
      " 0.50564787 0.45007089] \n",
      "Phi2: [0.34576255 0.40451146 0.40607876 0.34703561 0.30803199 0.3465305\n",
      " 0.34757374 0.30937107]\n",
      "0.0006548480244655819\n",
      "0.0006840228765263578\n",
      "0.0006606130230774054\n",
      "0.0006362480449003671\n",
      "0.0006563761093607567\n",
      "0.0006371554586875883\n",
      "0.0006216546996208328\n",
      "0.0006151594370484847\n",
      "0.0006145708068104883\n",
      "0.0006106964404914983\n",
      "cost: (array([0.01896026+0.j]), (0.31918789367012657+0j)) \n",
      "data: [0.34376127 0.43632839 0.43554648 0.34228553 0.27180705 0.34497154\n",
      " 0.3442418  0.27055267] \n",
      "diff: 0.09469787060621217 \n",
      "Phi: [0.5033434  0.58653668 0.58865058 0.50574502 0.45033849 0.5047183\n",
      " 0.50698696 0.45253658] \n",
      "Phi2: [0.34577614 0.40292649 0.40437865 0.34742595 0.30936395 0.34672064\n",
      " 0.34827912 0.31087396]\n",
      "0.0006102958189888597\n",
      "0.0006093336338918176\n",
      "0.000610273893545954\n",
      "0.0005863694479464332\n",
      "0.0005697621190215996\n",
      "0.0005578322323157581\n",
      "0.0005442114428144684\n",
      "0.0005291672952518756\n",
      "0.0005230790733353752\n",
      "0.0005163357498962906\n",
      "cost: (array([0.01627644+0.j]), (0.31919439897831403+0j)) \n",
      "data: [0.34674432 0.42893867 0.43105753 0.34612952 0.2773288  0.34307694\n",
      " 0.34481083 0.27686856] \n",
      "diff: 0.08761125845887681 \n",
      "Phi: [0.50873729 0.58367173 0.58168578 0.50776169 0.45708542 0.50688633\n",
      " 0.50549215 0.45555912] \n",
      "Phi2: [0.34902508 0.40043471 0.39907223 0.34835576 0.31358872 0.3477552\n",
      " 0.34679872 0.31254158]\n",
      "0.0004982319517403688\n",
      "0.0004918572098890905\n",
      "0.00048159235332900785\n",
      "0.00047674059756319664\n",
      "0.0004756771785158209\n",
      "0.0004718903074806269\n",
      "0.0004768550253538839\n",
      "0.00046621181488326613\n",
      "0.00045350543567990176\n",
      "0.00045835350458856006\n",
      "cost: (array([0.01516973+0.j]), (0.3191998963094763+0j)) \n",
      "data: [0.34606193 0.42786912 0.42695707 0.34732455 0.2791465  0.34514965\n",
      " 0.3444821  0.28022045] \n",
      "diff: 0.08452894368794113 \n",
      "Phi: [0.50922509 0.58053966 0.5805452  0.50842304 0.45863248 0.50750163\n",
      " 0.50704357 0.45828409] \n",
      "Phi2: [0.34917091 0.39807065 0.39807445 0.34862095 0.31448003 0.34798915\n",
      " 0.34767507 0.31424114]\n",
      "0.000453130607977803\n",
      "0.000443779357950036\n",
      "0.0004470258146832551\n",
      "0.00045052343169116327\n",
      "0.0004414768541586289\n",
      "0.0004354187424101541\n",
      "0.0004325760669892098\n",
      "0.00043289617394393076\n",
      "0.00042625100996818155\n",
      "0.00041783819900886865\n",
      "cost: (array([0.01380564+0.j]), (0.31922405062905945+0j)) \n",
      "data: [0.34664597 0.42384089 0.42447542 0.34670572 0.28481957 0.34749069\n",
      " 0.34426945 0.28181166] \n",
      "diff: 0.08057670338045522 \n",
      "Phi: [0.50761873 0.57687964 0.57906798 0.51067371 0.46016242 0.50666874\n",
      " 0.51030845 0.4629999 ] \n",
      "Phi2: [0.34782928 0.39528807 0.39678756 0.3499226  0.31531137 0.34717832\n",
      " 0.34967232 0.31725567]\n",
      "0.00042133894018392404\n",
      "0.00041596781431973984\n",
      "0.000433338347479606\n",
      "0.00041491317382580384\n",
      "0.0004026563962558072\n",
      "0.000401387673632847\n",
      "0.0004017649294725256\n",
      "0.00039148858569171274\n",
      "0.0003815391927840528\n",
      "0.0003879811473456174\n",
      "cost: (array([0.01293353+0.j]), (0.3192310577715808+0j)) \n",
      "data: [0.34583858 0.42091983 0.42278821 0.35002294 0.28477393 0.34612248\n",
      " 0.34519894 0.28617647] \n",
      "diff: 0.07795276226597296 \n",
      "Phi: [0.51247005 0.57777556 0.57427083 0.50856237 0.46503023 0.51013892\n",
      " 0.50714156 0.46160853] \n",
      "Phi2: [0.35100337 0.39573272 0.39333225 0.34832691 0.31851067 0.34940672\n",
      " 0.34735376 0.31616706]\n",
      "0.0003883175708589981\n",
      "0.0003727438991883991\n",
      "0.00036327150375981\n",
      "0.00035998244685686576\n",
      "0.00035133529207387326\n",
      "0.00034248028441574707\n",
      "0.0003349700947159473\n",
      "0.0003309373622167877\n",
      "0.00032943719220790424\n",
      "0.000349205026562438\n",
      "     fun: 0.00032943719220790424\n",
      "   maxcv: 0.0\n",
      " message: 'Maximum number of function evaluations has been exceeded.'\n",
      "    nfev: 200\n",
      "  status: 2\n",
      " success: False\n",
      "       x: array([1.40772604, 2.96027515, 3.31032684, 2.49079482, 0.81550771,\n",
      "       2.97121945, 0.48885053, 3.92247125, 1.38246445])\n"
     ]
    },
    {
     "data": {
      "text/plain": [
       "0.4695049216748361"
      ]
     },
     "execution_count": 584,
     "metadata": {},
     "output_type": "execute_result"
    }
   ],
   "source": [
    "# gate_set = [[0, 1, 0], [0, 0, 0]]\n",
    "\n",
    "# coefficient_set = [0.5, 0.5]\n",
    "\n",
    "# coefficient_set = [0.55, 0.45]\n",
    "# gate_set = [ [0, 0, 0], [0, 1, 0] ]\n",
    "\n",
    "# coefficient_set = [0.55, 0.225, 0.225]\n",
    "# gate_set = [ [0, 0, 0], [0, 1, 0], [0, 0, 1] ]\n",
    "\n",
    "coefficient_set = [0.17, 0.83]\n",
    "gate_set = [ [1, 0, 0, 0, 0], [0, 1, 1, 1, 1] ]\n",
    "\n",
    "coefficient_set, gate_set = generator_mat2()\n",
    "\n",
    "# coefficient_set = [1]\n",
    "# gate_set = [ [0, 1, 0] ]\n",
    "\n",
    "for i in range(len(gate_set)):\n",
    "    gate_set[i] = gate_set[i][0:N]\n",
    "\n",
    "A = gate_sets_to_mat(gate_set, coefficient_set)\n",
    "\n",
    "result, parameters = vqls.predict(gate_set, coefficient_set)\n",
    "\n",
    "np.linalg.norm(A @ result.data - b)"
   ]
  },
  {
   "cell_type": "code",
   "execution_count": null,
   "id": "121c51d1",
   "metadata": {},
   "outputs": [],
   "source": [
    "qctl = QuantumRegister(N+2)\n",
    "qc = ClassicalRegister(N+2)\n",
    "circ = QuantumCircuit(qctl, qc)\n",
    "AnsatzHERY().apply_control(circ, n_qubits, parameters, 0, qctl)\n",
    "circ.draw()\n"
   ]
  },
  {
   "cell_type": "code",
   "execution_count": null,
   "id": "33e67475",
   "metadata": {},
   "outputs": [],
   "source": [
    "np.real(A @ result.data), b"
   ]
  },
  {
   "cell_type": "code",
   "execution_count": 391,
   "id": "3c43e82f",
   "metadata": {},
   "outputs": [
    {
     "data": {
      "text/plain": [
       "array([-0.39279222, -0.45111409, -0.29384237, -0.23974387, -0.28861469,\n",
       "       -0.23895294, -0.39703749, -0.44760939])"
      ]
     },
     "execution_count": 391,
     "metadata": {},
     "output_type": "execute_result"
    }
   ],
   "source": [
    "np.real(result.data)"
   ]
  },
  {
   "cell_type": "code",
   "execution_count": 392,
   "id": "F98bZSEvTwNS",
   "metadata": {
    "id": "F98bZSEvTwNS"
   },
   "outputs": [
    {
     "data": {
      "text/plain": [
       "0.1253876870250303"
      ]
     },
     "execution_count": 392,
     "metadata": {},
     "output_type": "execute_result"
    }
   ],
   "source": [
    "np.linalg.norm(A @ result.data + b)"
   ]
  },
  {
   "cell_type": "code",
   "execution_count": 393,
   "id": "ead4c258",
   "metadata": {},
   "outputs": [
    {
     "data": {
      "text/plain": [
       "1.9759542237556948"
      ]
     },
     "execution_count": 393,
     "metadata": {},
     "output_type": "execute_result"
    }
   ],
   "source": [
    "np.linalg.norm(A @ result.data - b)"
   ]
  },
  {
   "cell_type": "code",
   "execution_count": 486,
   "id": "cc4140cc",
   "metadata": {},
   "outputs": [
    {
     "data": {
      "text/plain": [
       "array([0.  , 0.  , 0.  , 0.  , 0.  , 0.  , 0.  , 0.  , 0.  , 0.  , 0.  ,\n",
       "       0.  , 0.  , 0.  , 0.83, 0.  , 0.  , 0.17, 0.  , 0.  , 0.  , 0.  ,\n",
       "       0.  , 0.  , 0.  , 0.  , 0.  , 0.  , 0.  , 0.  , 0.  , 0.  ])"
      ]
     },
     "execution_count": 486,
     "metadata": {},
     "output_type": "execute_result"
    }
   ],
   "source": [
    "A = gate_sets_to_mat(gate_set, coefficient_set)\n",
    "\n",
    "A[1]"
   ]
  },
  {
   "cell_type": "code",
   "execution_count": 229,
   "id": "86464f97",
   "metadata": {},
   "outputs": [],
   "source": [
    "Phi = A @ result.data"
   ]
  },
  {
   "cell_type": "code",
   "execution_count": 230,
   "id": "b9afcaa1",
   "metadata": {},
   "outputs": [
    {
     "data": {
      "text/plain": [
       "array([ 0.99728732+0.j, -0.02136135+0.j,  0.00231661+0.j, -0.05781716+0.j,\n",
       "       -0.03740073+0.j, -0.00184239+0.j,  0.01413465+0.j,  0.00339159+0.j])"
      ]
     },
     "execution_count": 230,
     "metadata": {},
     "output_type": "execute_result"
    }
   ],
   "source": [
    "Phi / np.linalg.norm(Phi)"
   ]
  },
  {
   "cell_type": "code",
   "execution_count": 231,
   "id": "sVcfQAOBTwUx",
   "metadata": {
    "id": "sVcfQAOBTwUx"
   },
   "outputs": [
    {
     "data": {
      "text/plain": [
       "(0.012619954060687794+0j)"
      ]
     },
     "execution_count": 231,
     "metadata": {},
     "output_type": "execute_result"
    }
   ],
   "source": [
    "(b @ Phi / np.linalg.norm(Phi))**2"
   ]
  },
  {
   "cell_type": "code",
   "execution_count": 208,
   "id": "z09sywysTwbk",
   "metadata": {
    "id": "z09sywysTwbk"
   },
   "outputs": [
    {
     "data": {
      "text/plain": [
       "array([ 0.97254438, -0.14172628,  0.00131669,  0.15267998, -0.06364412,\n",
       "       -0.0035053 , -0.08147173, -0.00759445])"
      ]
     },
     "execution_count": 208,
     "metadata": {},
     "output_type": "execute_result"
    }
   ],
   "source": [
    "np.real(result.data)"
   ]
  },
  {
   "cell_type": "code",
   "execution_count": null,
   "id": "aa316b1d",
   "metadata": {},
   "outputs": [],
   "source": []
  },
  {
   "cell_type": "code",
   "execution_count": 209,
   "id": "IfhLZPL8Twgf",
   "metadata": {
    "id": "IfhLZPL8Twgf"
   },
   "outputs": [
    {
     "data": {
      "text/plain": [
       "array([0.93242298+0.j])"
      ]
     },
     "execution_count": 209,
     "metadata": {},
     "output_type": "execute_result"
    }
   ],
   "source": [
    "# Phi Hp Phi\n",
    "Phi.reshape(1, -1) @ Hp @ Phi"
   ]
  },
  {
   "cell_type": "code",
   "execution_count": 210,
   "id": "38db33a5",
   "metadata": {},
   "outputs": [],
   "source": [
    "Phi2 = A @ result.data / (A @ result.data @ A @ result.data)**0.5"
   ]
  },
  {
   "cell_type": "code",
   "execution_count": 211,
   "id": "wtX69f-TTwmF",
   "metadata": {
    "id": "wtX69f-TTwmF"
   },
   "outputs": [
    {
     "data": {
      "text/plain": [
       "(0.9851739943670488+0j)"
      ]
     },
     "execution_count": 211,
     "metadata": {},
     "output_type": "execute_result"
    }
   ],
   "source": [
    "# 1 - |b Phi|^2 / PhiPhi\n",
    "1 - abs(b @ Phi)**2 / (Phi @ Phi)"
   ]
  },
  {
   "cell_type": "code",
   "execution_count": 212,
   "id": "f8fcdc09",
   "metadata": {},
   "outputs": [
    {
     "data": {
      "text/plain": [
       "array([ 0.97254438+0.j, -0.01417263+0.j, -0.00131669+0.j, -0.015268  +0.j,\n",
       "       -0.00636441+0.j, -0.0035053 +0.j,  0.00814717+0.j,  0.00759445+0.j])"
      ]
     },
     "execution_count": 212,
     "metadata": {},
     "output_type": "execute_result"
    }
   ],
   "source": [
    "Phi"
   ]
  },
  {
   "cell_type": "code",
   "execution_count": 213,
   "id": "9e1aa7a4",
   "metadata": {},
   "outputs": [
    {
     "data": {
      "text/plain": [
       "array([0.125, 0.125, 0.125, 0.125, 0.125, 0.125, 0.125, 0.125])"
      ]
     },
     "execution_count": 213,
     "metadata": {},
     "output_type": "execute_result"
    }
   ],
   "source": [
    "b"
   ]
  },
  {
   "cell_type": "code",
   "execution_count": null,
   "id": "2d5c0207",
   "metadata": {},
   "outputs": [],
   "source": []
  },
  {
   "cell_type": "code",
   "execution_count": null,
   "id": "214934ec",
   "metadata": {},
   "outputs": [],
   "source": []
  },
  {
   "cell_type": "code",
   "execution_count": null,
   "id": "5f04a6c0",
   "metadata": {},
   "outputs": [],
   "source": []
  },
  {
   "cell_type": "code",
   "execution_count": 545,
   "id": "78dbd64c",
   "metadata": {},
   "outputs": [
    {
     "name": "stderr",
     "output_type": "stream",
     "text": [
      "No artists with labels found to put in legend.  Note that artists whose label start with an underscore are ignored when legend() is called with no argument.\n"
     ]
    },
    {
     "data": {
      "image/png": "[encoded data removed]",
      "text/plain": [
       "<Figure size 720x720 with 1 Axes>"
      ]
     },
     "metadata": {
      "needs_background": "light"
     },
     "output_type": "display_data"
    }
   ],
   "source": [
    "import matplotlib.pyplot as plt\n",
    "\n",
    "plt.legend(loc = \"upper left\")\n",
    "\n",
    "for i in logs:\n",
    "\n",
    "    xs = []\n",
    "    ys = []\n",
    "    for k in logs[i]:\n",
    "        xs.append(k)\n",
    "        ys.append(np.mean(logs[i][k]))\n",
    "\n",
    "    plt.plot(xs, ys, label=\"N = \" + str(i))\n",
    "    \n",
    "plt.show()"
   ]
  },
  {
   "cell_type": "code",
   "execution_count": 546,
   "id": "3417bd89",
   "metadata": {},
   "outputs": [
    {
     "name": "stderr",
     "output_type": "stream",
     "text": [
      "No artists with labels found to put in legend.  Note that artists whose label start with an underscore are ignored when legend() is called with no argument.\n"
     ]
    },
    {
     "data": {
      "image/png": "[encoded data removed]",
      "text/plain": [
       "<Figure size 720x720 with 1 Axes>"
      ]
     },
     "metadata": {
      "needs_background": "light"
     },
     "output_type": "display_data"
    }
   ],
   "source": [
    "import matplotlib.pyplot as plt\n",
    "\n",
    "plt.legend(loc = \"upper left\")\n",
    "\n",
    "plt.yscale('log')\n",
    "\n",
    "for i in logs:\n",
    "\n",
    "    xs = []\n",
    "    ys = []\n",
    "    for k in logs[i]:\n",
    "        xs.append(k)\n",
    "        ys.append(np.mean(logs[i][k]))\n",
    "\n",
    "    plt.plot(xs, ys, label=\"N = \" + str(i))\n",
    "    \n",
    "plt.show()"
   ]
  },
  {
   "cell_type": "code",
   "execution_count": null,
   "id": "f01cfb2f",
   "metadata": {},
   "outputs": [],
   "source": []
  },
  {
   "cell_type": "code",
   "execution_count": null,
   "id": "b68e0e06",
   "metadata": {},
   "outputs": [],
   "source": []
  },
  {
   "cell_type": "code",
   "execution_count": null,
   "id": "0e93938e",
   "metadata": {},
   "outputs": [],
   "source": []
  },
  {
   "cell_type": "code",
   "execution_count": null,
   "id": "6303b1fc",
   "metadata": {},
   "outputs": [],
   "source": []
  },
  {
   "cell_type": "code",
   "execution_count": 521,
   "id": "8b2138cd",
   "metadata": {},
   "outputs": [
    {
     "name": "stderr",
     "output_type": "stream",
     "text": [
      " 10%|████▎                                      | 1/10 [01:49<16:26, 109.56s/it]capi_return is NULL\n",
      "Call-back cb_calcfc_in__cobyla__user__routines failed.\n",
      "\n"
     ]
    },
    {
     "ename": "KeyboardInterrupt",
     "evalue": "",
     "output_type": "error",
     "traceback": [
      "\u001b[0;31m---------------------------------------------------------------------------\u001b[0m",
      "\u001b[0;31mKeyboardInterrupt\u001b[0m                         Traceback (most recent call last)",
      "Input \u001b[0;32mIn [521]\u001b[0m, in \u001b[0;36m<module>\u001b[0;34m\u001b[0m\n\u001b[1;32m      7\u001b[0m     gate_set[i] \u001b[38;5;241m=\u001b[39m gate_set[i][\u001b[38;5;241m0\u001b[39m:N]\n\u001b[1;32m      9\u001b[0m \u001b[38;5;28;01mfor\u001b[39;00m i \u001b[38;5;129;01min\u001b[39;00m tqdm(\u001b[38;5;28mrange\u001b[39m(\u001b[38;5;241m10\u001b[39m)):\n\u001b[0;32m---> 10\u001b[0m     result, parameters \u001b[38;5;241m=\u001b[39m \u001b[43mvqls\u001b[49m\u001b[38;5;241;43m.\u001b[39;49m\u001b[43mpredict\u001b[49m\u001b[43m(\u001b[49m\u001b[43mgate_set\u001b[49m\u001b[43m,\u001b[49m\u001b[43m \u001b[49m\u001b[43mcoefficient_set\u001b[49m\u001b[43m,\u001b[49m\u001b[43m \u001b[49m\u001b[43mprint_logs\u001b[49m\u001b[38;5;241;43m=\u001b[39;49m\u001b[38;5;28;43;01mFalse\u001b[39;49;00m\u001b[43m)\u001b[49m\n",
      "Input \u001b[0;32mIn [518]\u001b[0m, in \u001b[0;36mVQLS.predict\u001b[0;34m(self, gate_set, coefficient_set, print_logs)\u001b[0m\n\u001b[1;32m     20\u001b[0m     \u001b[38;5;28;01mreturn\u001b[39;00m \u001b[38;5;28mself\u001b[39m\u001b[38;5;241m.\u001b[39mcost_function(\u001b[38;5;28mself\u001b[39m\u001b[38;5;241m.\u001b[39mansatz, gate_set, coefficient_set, circ)\u001b[38;5;241m.\u001b[39mcost_calculate(parameters, print_logs) \u001b[38;5;66;03m# (parameters -> float)\u001b[39;00m\n\u001b[1;32m     21\u001b[0m start_parameters \u001b[38;5;241m=\u001b[39m [\u001b[38;5;28mfloat\u001b[39m(random\u001b[38;5;241m.\u001b[39mrandint(\u001b[38;5;241m0\u001b[39m,\u001b[38;5;241m3000\u001b[39m))\u001b[38;5;241m/\u001b[39m\u001b[38;5;241m1000\u001b[39m \u001b[38;5;28;01mfor\u001b[39;00m i \u001b[38;5;129;01min\u001b[39;00m \u001b[38;5;28mrange\u001b[39m(\u001b[38;5;241m0\u001b[39m, \u001b[38;5;28mself\u001b[39m\u001b[38;5;241m.\u001b[39mansatz\u001b[38;5;241m.\u001b[39mget_paramenters_size())]\n\u001b[0;32m---> 22\u001b[0m out \u001b[38;5;241m=\u001b[39m \u001b[43mminimize\u001b[49m\u001b[43m(\u001b[49m\u001b[43mcalc_cost_function\u001b[49m\u001b[43m,\u001b[49m\u001b[43m \u001b[49m\u001b[43mx0\u001b[49m\u001b[38;5;241;43m=\u001b[39;49m\u001b[43mstart_parameters\u001b[49m\u001b[43m,\u001b[49m\u001b[43m \u001b[49m\u001b[43mmethod\u001b[49m\u001b[38;5;241;43m=\u001b[39;49m\u001b[38;5;124;43m\"\u001b[39;49m\u001b[38;5;124;43mCOBYLA\u001b[39;49m\u001b[38;5;124;43m\"\u001b[39;49m\u001b[43m,\u001b[49m\u001b[43m \u001b[49m\u001b[43moptions\u001b[49m\u001b[38;5;241;43m=\u001b[39;49m\u001b[43m{\u001b[49m\u001b[38;5;124;43m'\u001b[39;49m\u001b[38;5;124;43mmaxiter\u001b[39;49m\u001b[38;5;124;43m'\u001b[39;49m\u001b[43m:\u001b[49m\u001b[43m \u001b[49m\u001b[38;5;28;43mself\u001b[39;49m\u001b[38;5;241;43m.\u001b[39;49m\u001b[43mmaxiter\u001b[49m\u001b[43m}\u001b[49m\u001b[43m)\u001b[49m\n\u001b[1;32m     23\u001b[0m \u001b[38;5;28;01mif\u001b[39;00m print_logs:\n\u001b[1;32m     24\u001b[0m     \u001b[38;5;28mprint\u001b[39m(out)\n",
      "File \u001b[0;32m~/.local/lib/python3.10/site-packages/scipy/optimize/_minimize.py:687\u001b[0m, in \u001b[0;36mminimize\u001b[0;34m(fun, x0, args, method, jac, hess, hessp, bounds, constraints, tol, callback, options)\u001b[0m\n\u001b[1;32m    684\u001b[0m     res \u001b[38;5;241m=\u001b[39m _minimize_tnc(fun, x0, args, jac, bounds, callback\u001b[38;5;241m=\u001b[39mcallback,\n\u001b[1;32m    685\u001b[0m                         \u001b[38;5;241m*\u001b[39m\u001b[38;5;241m*\u001b[39moptions)\n\u001b[1;32m    686\u001b[0m \u001b[38;5;28;01melif\u001b[39;00m meth \u001b[38;5;241m==\u001b[39m \u001b[38;5;124m'\u001b[39m\u001b[38;5;124mcobyla\u001b[39m\u001b[38;5;124m'\u001b[39m:\n\u001b[0;32m--> 687\u001b[0m     res \u001b[38;5;241m=\u001b[39m \u001b[43m_minimize_cobyla\u001b[49m\u001b[43m(\u001b[49m\u001b[43mfun\u001b[49m\u001b[43m,\u001b[49m\u001b[43m \u001b[49m\u001b[43mx0\u001b[49m\u001b[43m,\u001b[49m\u001b[43m \u001b[49m\u001b[43margs\u001b[49m\u001b[43m,\u001b[49m\u001b[43m \u001b[49m\u001b[43mconstraints\u001b[49m\u001b[43m,\u001b[49m\u001b[43m \u001b[49m\u001b[43mcallback\u001b[49m\u001b[38;5;241;43m=\u001b[39;49m\u001b[43mcallback\u001b[49m\u001b[43m,\u001b[49m\n\u001b[1;32m    688\u001b[0m \u001b[43m                            \u001b[49m\u001b[38;5;241;43m*\u001b[39;49m\u001b[38;5;241;43m*\u001b[39;49m\u001b[43moptions\u001b[49m\u001b[43m)\u001b[49m\n\u001b[1;32m    689\u001b[0m \u001b[38;5;28;01melif\u001b[39;00m meth \u001b[38;5;241m==\u001b[39m \u001b[38;5;124m'\u001b[39m\u001b[38;5;124mslsqp\u001b[39m\u001b[38;5;124m'\u001b[39m:\n\u001b[1;32m    690\u001b[0m     res \u001b[38;5;241m=\u001b[39m _minimize_slsqp(fun, x0, args, jac, bounds,\n\u001b[1;32m    691\u001b[0m                           constraints, callback\u001b[38;5;241m=\u001b[39mcallback, \u001b[38;5;241m*\u001b[39m\u001b[38;5;241m*\u001b[39moptions)\n",
      "File \u001b[0;32m~/.local/lib/python3.10/site-packages/scipy/optimize/_cobyla_py.py:34\u001b[0m, in \u001b[0;36msynchronized.<locals>.wrapper\u001b[0;34m(*args, **kwargs)\u001b[0m\n\u001b[1;32m     31\u001b[0m \u001b[38;5;129m@functools\u001b[39m\u001b[38;5;241m.\u001b[39mwraps(func)\n\u001b[1;32m     32\u001b[0m \u001b[38;5;28;01mdef\u001b[39;00m \u001b[38;5;21mwrapper\u001b[39m(\u001b[38;5;241m*\u001b[39margs, \u001b[38;5;241m*\u001b[39m\u001b[38;5;241m*\u001b[39mkwargs):\n\u001b[1;32m     33\u001b[0m     \u001b[38;5;28;01mwith\u001b[39;00m _module_lock:\n\u001b[0;32m---> 34\u001b[0m         \u001b[38;5;28;01mreturn\u001b[39;00m \u001b[43mfunc\u001b[49m\u001b[43m(\u001b[49m\u001b[38;5;241;43m*\u001b[39;49m\u001b[43margs\u001b[49m\u001b[43m,\u001b[49m\u001b[43m \u001b[49m\u001b[38;5;241;43m*\u001b[39;49m\u001b[38;5;241;43m*\u001b[39;49m\u001b[43mkwargs\u001b[49m\u001b[43m)\u001b[49m\n",
      "File \u001b[0;32m~/.local/lib/python3.10/site-packages/scipy/optimize/_cobyla_py.py:273\u001b[0m, in \u001b[0;36m_minimize_cobyla\u001b[0;34m(fun, x0, args, constraints, rhobeg, tol, maxiter, disp, catol, callback, **unknown_options)\u001b[0m\n\u001b[1;32m    270\u001b[0m         callback(np\u001b[38;5;241m.\u001b[39mcopy(x))\n\u001b[1;32m    272\u001b[0m info \u001b[38;5;241m=\u001b[39m np\u001b[38;5;241m.\u001b[39mzeros(\u001b[38;5;241m4\u001b[39m, np\u001b[38;5;241m.\u001b[39mfloat64)\n\u001b[0;32m--> 273\u001b[0m xopt, info \u001b[38;5;241m=\u001b[39m \u001b[43mcobyla\u001b[49m\u001b[38;5;241;43m.\u001b[39;49m\u001b[43mminimize\u001b[49m\u001b[43m(\u001b[49m\u001b[43mcalcfc\u001b[49m\u001b[43m,\u001b[49m\u001b[43m \u001b[49m\u001b[43mm\u001b[49m\u001b[38;5;241;43m=\u001b[39;49m\u001b[43mm\u001b[49m\u001b[43m,\u001b[49m\u001b[43m \u001b[49m\u001b[43mx\u001b[49m\u001b[38;5;241;43m=\u001b[39;49m\u001b[43mnp\u001b[49m\u001b[38;5;241;43m.\u001b[39;49m\u001b[43mcopy\u001b[49m\u001b[43m(\u001b[49m\u001b[43mx0\u001b[49m\u001b[43m)\u001b[49m\u001b[43m,\u001b[49m\u001b[43m \u001b[49m\u001b[43mrhobeg\u001b[49m\u001b[38;5;241;43m=\u001b[39;49m\u001b[43mrhobeg\u001b[49m\u001b[43m,\u001b[49m\n\u001b[1;32m    274\u001b[0m \u001b[43m                              \u001b[49m\u001b[43mrhoend\u001b[49m\u001b[38;5;241;43m=\u001b[39;49m\u001b[43mrhoend\u001b[49m\u001b[43m,\u001b[49m\u001b[43m \u001b[49m\u001b[43miprint\u001b[49m\u001b[38;5;241;43m=\u001b[39;49m\u001b[43miprint\u001b[49m\u001b[43m,\u001b[49m\u001b[43m \u001b[49m\u001b[43mmaxfun\u001b[49m\u001b[38;5;241;43m=\u001b[39;49m\u001b[43mmaxfun\u001b[49m\u001b[43m,\u001b[49m\n\u001b[1;32m    275\u001b[0m \u001b[43m                              \u001b[49m\u001b[43mdinfo\u001b[49m\u001b[38;5;241;43m=\u001b[39;49m\u001b[43minfo\u001b[49m\u001b[43m,\u001b[49m\u001b[43m \u001b[49m\u001b[43mcallback\u001b[49m\u001b[38;5;241;43m=\u001b[39;49m\u001b[43mwrapped_callback\u001b[49m\u001b[43m)\u001b[49m\n\u001b[1;32m    277\u001b[0m \u001b[38;5;28;01mif\u001b[39;00m info[\u001b[38;5;241m3\u001b[39m] \u001b[38;5;241m>\u001b[39m catol:\n\u001b[1;32m    278\u001b[0m     \u001b[38;5;66;03m# Check constraint violation\u001b[39;00m\n\u001b[1;32m    279\u001b[0m     info[\u001b[38;5;241m0\u001b[39m] \u001b[38;5;241m=\u001b[39m \u001b[38;5;241m4\u001b[39m\n",
      "File \u001b[0;32m~/.local/lib/python3.10/site-packages/scipy/optimize/_cobyla_py.py:261\u001b[0m, in \u001b[0;36m_minimize_cobyla.<locals>.calcfc\u001b[0;34m(x, con)\u001b[0m\n\u001b[1;32m    260\u001b[0m \u001b[38;5;28;01mdef\u001b[39;00m \u001b[38;5;21mcalcfc\u001b[39m(x, con):\n\u001b[0;32m--> 261\u001b[0m     f \u001b[38;5;241m=\u001b[39m \u001b[43mfun\u001b[49m\u001b[43m(\u001b[49m\u001b[43mnp\u001b[49m\u001b[38;5;241;43m.\u001b[39;49m\u001b[43mcopy\u001b[49m\u001b[43m(\u001b[49m\u001b[43mx\u001b[49m\u001b[43m)\u001b[49m\u001b[43m,\u001b[49m\u001b[43m \u001b[49m\u001b[38;5;241;43m*\u001b[39;49m\u001b[43margs\u001b[49m\u001b[43m)\u001b[49m\n\u001b[1;32m    262\u001b[0m     i \u001b[38;5;241m=\u001b[39m \u001b[38;5;241m0\u001b[39m\n\u001b[1;32m    263\u001b[0m     \u001b[38;5;28;01mfor\u001b[39;00m size, c \u001b[38;5;129;01min\u001b[39;00m izip(cons_lengths, constraints):\n",
      "Input \u001b[0;32mIn [518]\u001b[0m, in \u001b[0;36mVQLS.predict.<locals>.calc_cost_function\u001b[0;34m(parameters)\u001b[0m\n\u001b[1;32m     19\u001b[0m \u001b[38;5;28;01mdef\u001b[39;00m \u001b[38;5;21mcalc_cost_function\u001b[39m(parameters):\n\u001b[0;32m---> 20\u001b[0m     \u001b[38;5;28;01mreturn\u001b[39;00m \u001b[38;5;28;43mself\u001b[39;49m\u001b[38;5;241;43m.\u001b[39;49m\u001b[43mcost_function\u001b[49m\u001b[43m(\u001b[49m\u001b[38;5;28;43mself\u001b[39;49m\u001b[38;5;241;43m.\u001b[39;49m\u001b[43mansatz\u001b[49m\u001b[43m,\u001b[49m\u001b[43m \u001b[49m\u001b[43mgate_set\u001b[49m\u001b[43m,\u001b[49m\u001b[43m \u001b[49m\u001b[43mcoefficient_set\u001b[49m\u001b[43m,\u001b[49m\u001b[43m \u001b[49m\u001b[43mcirc\u001b[49m\u001b[43m)\u001b[49m\u001b[38;5;241;43m.\u001b[39;49m\u001b[43mcost_calculate\u001b[49m\u001b[43m(\u001b[49m\u001b[43mparameters\u001b[49m\u001b[43m,\u001b[49m\u001b[43m \u001b[49m\u001b[43mprint_logs\u001b[49m\u001b[43m)\u001b[49m\n",
      "Input \u001b[0;32mIn [517]\u001b[0m, in \u001b[0;36mMyCostFunction.cost_calculate\u001b[0;34m(self, parameters, print_logs)\u001b[0m\n\u001b[1;32m     26\u001b[0m \u001b[38;5;28mself\u001b[39m\u001b[38;5;241m.\u001b[39mhad_test(circ, [\u001b[38;5;28mself\u001b[39m\u001b[38;5;241m.\u001b[39mgate_set[i], \u001b[38;5;28mself\u001b[39m\u001b[38;5;241m.\u001b[39mgate_set[j]], n_qubits, \u001b[38;5;241m0\u001b[39m, new_parameters)\n\u001b[1;32m     28\u001b[0m circ\u001b[38;5;241m.\u001b[39msave_statevector()\n\u001b[0;32m---> 29\u001b[0m t_circ \u001b[38;5;241m=\u001b[39m \u001b[43mtranspile\u001b[49m\u001b[43m(\u001b[49m\u001b[43mcirc\u001b[49m\u001b[43m,\u001b[49m\u001b[43m \u001b[49m\u001b[43mbackend\u001b[49m\u001b[43m)\u001b[49m\n\u001b[1;32m     30\u001b[0m qobj \u001b[38;5;241m=\u001b[39m assemble(t_circ)\n\u001b[1;32m     31\u001b[0m job \u001b[38;5;241m=\u001b[39m backend\u001b[38;5;241m.\u001b[39mrun(qobj)\n",
      "File \u001b[0;32m~/.local/lib/python3.10/site-packages/qiskit/compiler/transpiler.py:335\u001b[0m, in \u001b[0;36mtranspile\u001b[0;34m(circuits, backend, basis_gates, inst_map, coupling_map, backend_properties, initial_layout, layout_method, routing_method, translation_method, scheduling_method, instruction_durations, dt, approximation_degree, timing_constraints, seed_transpiler, optimization_level, pass_manager, callback, output_name, unitary_synthesis_method, unitary_synthesis_plugin_config, target)\u001b[0m\n\u001b[1;32m    332\u001b[0m _check_circuits_coupling_map(circuits, transpile_args, backend)\n\u001b[1;32m    334\u001b[0m \u001b[38;5;66;03m# Transpile circuits in parallel\u001b[39;00m\n\u001b[0;32m--> 335\u001b[0m circuits \u001b[38;5;241m=\u001b[39m \u001b[43mparallel_map\u001b[49m\u001b[43m(\u001b[49m\u001b[43m_transpile_circuit\u001b[49m\u001b[43m,\u001b[49m\u001b[43m \u001b[49m\u001b[38;5;28;43mlist\u001b[39;49m\u001b[43m(\u001b[49m\u001b[38;5;28;43mzip\u001b[39;49m\u001b[43m(\u001b[49m\u001b[43mcircuits\u001b[49m\u001b[43m,\u001b[49m\u001b[43m \u001b[49m\u001b[43mtranspile_args\u001b[49m\u001b[43m)\u001b[49m\u001b[43m)\u001b[49m\u001b[43m)\u001b[49m\n\u001b[1;32m    337\u001b[0m end_time \u001b[38;5;241m=\u001b[39m time()\n\u001b[1;32m    338\u001b[0m _log_transpile_time(start_time, end_time)\n",
      "File \u001b[0;32m~/.local/lib/python3.10/site-packages/qiskit/tools/parallel.py:132\u001b[0m, in \u001b[0;36mparallel_map\u001b[0;34m(task, values, task_args, task_kwargs, num_processes)\u001b[0m\n\u001b[1;32m    130\u001b[0m     \u001b[38;5;28;01mreturn\u001b[39;00m []\n\u001b[1;32m    131\u001b[0m \u001b[38;5;28;01mif\u001b[39;00m \u001b[38;5;28mlen\u001b[39m(values) \u001b[38;5;241m==\u001b[39m \u001b[38;5;241m1\u001b[39m:\n\u001b[0;32m--> 132\u001b[0m     \u001b[38;5;28;01mreturn\u001b[39;00m [\u001b[43mtask\u001b[49m\u001b[43m(\u001b[49m\u001b[43mvalues\u001b[49m\u001b[43m[\u001b[49m\u001b[38;5;241;43m0\u001b[39;49m\u001b[43m]\u001b[49m\u001b[43m,\u001b[49m\u001b[43m \u001b[49m\u001b[38;5;241;43m*\u001b[39;49m\u001b[43mtask_args\u001b[49m\u001b[43m,\u001b[49m\u001b[43m \u001b[49m\u001b[38;5;241;43m*\u001b[39;49m\u001b[38;5;241;43m*\u001b[39;49m\u001b[43mtask_kwargs\u001b[49m\u001b[43m)\u001b[49m]\n\u001b[1;32m    134\u001b[0m Publisher()\u001b[38;5;241m.\u001b[39mpublish(\u001b[38;5;124m\"\u001b[39m\u001b[38;5;124mterra.parallel.start\u001b[39m\u001b[38;5;124m\"\u001b[39m, \u001b[38;5;28mlen\u001b[39m(values))\n\u001b[1;32m    135\u001b[0m nfinished \u001b[38;5;241m=\u001b[39m [\u001b[38;5;241m0\u001b[39m]\n",
      "File \u001b[0;32m~/.local/lib/python3.10/site-packages/qiskit/compiler/transpiler.py:429\u001b[0m, in \u001b[0;36m_transpile_circuit\u001b[0;34m(circuit_config_tuple)\u001b[0m\n\u001b[1;32m    426\u001b[0m \u001b[38;5;28;01melse\u001b[39;00m:\n\u001b[1;32m    427\u001b[0m     \u001b[38;5;28;01mraise\u001b[39;00m TranspilerError(\u001b[38;5;124m\"\u001b[39m\u001b[38;5;124moptimization_level can range from 0 to 3.\u001b[39m\u001b[38;5;124m\"\u001b[39m)\n\u001b[0;32m--> 429\u001b[0m result \u001b[38;5;241m=\u001b[39m \u001b[43mpass_manager\u001b[49m\u001b[38;5;241;43m.\u001b[39;49m\u001b[43mrun\u001b[49m\u001b[43m(\u001b[49m\n\u001b[1;32m    430\u001b[0m \u001b[43m    \u001b[49m\u001b[43mcircuit\u001b[49m\u001b[43m,\u001b[49m\u001b[43m \u001b[49m\u001b[43mcallback\u001b[49m\u001b[38;5;241;43m=\u001b[39;49m\u001b[43mtranspile_config\u001b[49m\u001b[43m[\u001b[49m\u001b[38;5;124;43m\"\u001b[39;49m\u001b[38;5;124;43mcallback\u001b[39;49m\u001b[38;5;124;43m\"\u001b[39;49m\u001b[43m]\u001b[49m\u001b[43m,\u001b[49m\u001b[43m \u001b[49m\u001b[43moutput_name\u001b[49m\u001b[38;5;241;43m=\u001b[39;49m\u001b[43mtranspile_config\u001b[49m\u001b[43m[\u001b[49m\u001b[38;5;124;43m\"\u001b[39;49m\u001b[38;5;124;43moutput_name\u001b[39;49m\u001b[38;5;124;43m\"\u001b[39;49m\u001b[43m]\u001b[49m\n\u001b[1;32m    431\u001b[0m \u001b[43m\u001b[49m\u001b[43m)\u001b[49m\n\u001b[1;32m    433\u001b[0m \u001b[38;5;28;01mif\u001b[39;00m transpile_config[\u001b[38;5;124m\"\u001b[39m\u001b[38;5;124mfaulty_qubits_map\u001b[39m\u001b[38;5;124m\"\u001b[39m]:\n\u001b[1;32m    434\u001b[0m     \u001b[38;5;28;01mreturn\u001b[39;00m _remap_circuit_faulty_backend(\n\u001b[1;32m    435\u001b[0m         result,\n\u001b[1;32m    436\u001b[0m         transpile_config[\u001b[38;5;124m\"\u001b[39m\u001b[38;5;124mbackend_num_qubits\u001b[39m\u001b[38;5;124m\"\u001b[39m],\n\u001b[1;32m    437\u001b[0m         pass_manager_config\u001b[38;5;241m.\u001b[39mbackend_properties,\n\u001b[1;32m    438\u001b[0m         transpile_config[\u001b[38;5;124m\"\u001b[39m\u001b[38;5;124mfaulty_qubits_map\u001b[39m\u001b[38;5;124m\"\u001b[39m],\n\u001b[1;32m    439\u001b[0m     )\n",
      "File \u001b[0;32m~/.local/lib/python3.10/site-packages/qiskit/transpiler/passmanager.py:218\u001b[0m, in \u001b[0;36mPassManager.run\u001b[0;34m(self, circuits, output_name, callback)\u001b[0m\n\u001b[1;32m    216\u001b[0m     \u001b[38;5;28;01mreturn\u001b[39;00m circuits\n\u001b[1;32m    217\u001b[0m \u001b[38;5;28;01mif\u001b[39;00m \u001b[38;5;28misinstance\u001b[39m(circuits, QuantumCircuit):\n\u001b[0;32m--> 218\u001b[0m     \u001b[38;5;28;01mreturn\u001b[39;00m \u001b[38;5;28;43mself\u001b[39;49m\u001b[38;5;241;43m.\u001b[39;49m\u001b[43m_run_single_circuit\u001b[49m\u001b[43m(\u001b[49m\u001b[43mcircuits\u001b[49m\u001b[43m,\u001b[49m\u001b[43m \u001b[49m\u001b[43moutput_name\u001b[49m\u001b[43m,\u001b[49m\u001b[43m \u001b[49m\u001b[43mcallback\u001b[49m\u001b[43m)\u001b[49m\n\u001b[1;32m    219\u001b[0m \u001b[38;5;28;01mif\u001b[39;00m \u001b[38;5;28mlen\u001b[39m(circuits) \u001b[38;5;241m==\u001b[39m \u001b[38;5;241m1\u001b[39m:\n\u001b[1;32m    220\u001b[0m     \u001b[38;5;28;01mreturn\u001b[39;00m \u001b[38;5;28mself\u001b[39m\u001b[38;5;241m.\u001b[39m_run_single_circuit(circuits[\u001b[38;5;241m0\u001b[39m], output_name, callback)\n",
      "File \u001b[0;32m~/.local/lib/python3.10/site-packages/qiskit/transpiler/passmanager.py:273\u001b[0m, in \u001b[0;36mPassManager._run_single_circuit\u001b[0;34m(self, circuit, output_name, callback)\u001b[0m\n\u001b[1;32m    261\u001b[0m \u001b[38;5;124;03m\"\"\"Run all the passes on a ``circuit``.\u001b[39;00m\n\u001b[1;32m    262\u001b[0m \n\u001b[1;32m    263\u001b[0m \u001b[38;5;124;03mArgs:\u001b[39;00m\n\u001b[0;32m   (...)\u001b[0m\n\u001b[1;32m    270\u001b[0m \u001b[38;5;124;03m    The transformed circuit.\u001b[39;00m\n\u001b[1;32m    271\u001b[0m \u001b[38;5;124;03m\"\"\"\u001b[39;00m\n\u001b[1;32m    272\u001b[0m running_passmanager \u001b[38;5;241m=\u001b[39m \u001b[38;5;28mself\u001b[39m\u001b[38;5;241m.\u001b[39m_create_running_passmanager()\n\u001b[0;32m--> 273\u001b[0m result \u001b[38;5;241m=\u001b[39m \u001b[43mrunning_passmanager\u001b[49m\u001b[38;5;241;43m.\u001b[39;49m\u001b[43mrun\u001b[49m\u001b[43m(\u001b[49m\u001b[43mcircuit\u001b[49m\u001b[43m,\u001b[49m\u001b[43m \u001b[49m\u001b[43moutput_name\u001b[49m\u001b[38;5;241;43m=\u001b[39;49m\u001b[43moutput_name\u001b[49m\u001b[43m,\u001b[49m\u001b[43m \u001b[49m\u001b[43mcallback\u001b[49m\u001b[38;5;241;43m=\u001b[39;49m\u001b[43mcallback\u001b[49m\u001b[43m)\u001b[49m\n\u001b[1;32m    274\u001b[0m \u001b[38;5;28mself\u001b[39m\u001b[38;5;241m.\u001b[39mproperty_set \u001b[38;5;241m=\u001b[39m running_passmanager\u001b[38;5;241m.\u001b[39mproperty_set\n\u001b[1;32m    275\u001b[0m \u001b[38;5;28;01mreturn\u001b[39;00m result\n",
      "File \u001b[0;32m~/.local/lib/python3.10/site-packages/qiskit/transpiler/runningpassmanager.py:123\u001b[0m, in \u001b[0;36mRunningPassManager.run\u001b[0;34m(***failed resolving arguments***)\u001b[0m\n\u001b[1;32m    121\u001b[0m \u001b[38;5;28;01mfor\u001b[39;00m passset \u001b[38;5;129;01min\u001b[39;00m \u001b[38;5;28mself\u001b[39m\u001b[38;5;241m.\u001b[39mworking_list:\n\u001b[1;32m    122\u001b[0m     \u001b[38;5;28;01mfor\u001b[39;00m pass_ \u001b[38;5;129;01min\u001b[39;00m passset:\n\u001b[0;32m--> 123\u001b[0m         dag \u001b[38;5;241m=\u001b[39m \u001b[38;5;28;43mself\u001b[39;49m\u001b[38;5;241;43m.\u001b[39;49m\u001b[43m_do_pass\u001b[49m\u001b[43m(\u001b[49m\u001b[43mpass_\u001b[49m\u001b[43m,\u001b[49m\u001b[43m \u001b[49m\u001b[43mdag\u001b[49m\u001b[43m,\u001b[49m\u001b[43m \u001b[49m\u001b[43mpassset\u001b[49m\u001b[38;5;241;43m.\u001b[39;49m\u001b[43moptions\u001b[49m\u001b[43m)\u001b[49m\n\u001b[1;32m    125\u001b[0m circuit \u001b[38;5;241m=\u001b[39m dag_to_circuit(dag)\n\u001b[1;32m    126\u001b[0m \u001b[38;5;28;01mif\u001b[39;00m output_name:\n",
      "File \u001b[0;32m~/.local/lib/python3.10/site-packages/qiskit/transpiler/runningpassmanager.py:154\u001b[0m, in \u001b[0;36mRunningPassManager._do_pass\u001b[0;34m(self, pass_, dag, options)\u001b[0m\n\u001b[1;32m    152\u001b[0m \u001b[38;5;66;03m# Run the pass itself, if not already run\u001b[39;00m\n\u001b[1;32m    153\u001b[0m \u001b[38;5;28;01mif\u001b[39;00m pass_ \u001b[38;5;129;01mnot\u001b[39;00m \u001b[38;5;129;01min\u001b[39;00m \u001b[38;5;28mself\u001b[39m\u001b[38;5;241m.\u001b[39mvalid_passes:\n\u001b[0;32m--> 154\u001b[0m     dag \u001b[38;5;241m=\u001b[39m \u001b[38;5;28;43mself\u001b[39;49m\u001b[38;5;241;43m.\u001b[39;49m\u001b[43m_run_this_pass\u001b[49m\u001b[43m(\u001b[49m\u001b[43mpass_\u001b[49m\u001b[43m,\u001b[49m\u001b[43m \u001b[49m\u001b[43mdag\u001b[49m\u001b[43m)\u001b[49m\n\u001b[1;32m    156\u001b[0m     \u001b[38;5;66;03m# update the valid_passes property\u001b[39;00m\n\u001b[1;32m    157\u001b[0m     \u001b[38;5;28mself\u001b[39m\u001b[38;5;241m.\u001b[39m_update_valid_passes(pass_)\n",
      "File \u001b[0;32m~/.local/lib/python3.10/site-packages/qiskit/transpiler/runningpassmanager.py:166\u001b[0m, in \u001b[0;36mRunningPassManager._run_this_pass\u001b[0;34m(self, pass_, dag)\u001b[0m\n\u001b[1;32m    163\u001b[0m \u001b[38;5;28;01mif\u001b[39;00m pass_\u001b[38;5;241m.\u001b[39mis_transformation_pass:\n\u001b[1;32m    164\u001b[0m     \u001b[38;5;66;03m# Measure time if we have a callback or logging set\u001b[39;00m\n\u001b[1;32m    165\u001b[0m     start_time \u001b[38;5;241m=\u001b[39m time()\n\u001b[0;32m--> 166\u001b[0m     new_dag \u001b[38;5;241m=\u001b[39m \u001b[43mpass_\u001b[49m\u001b[38;5;241;43m.\u001b[39;49m\u001b[43mrun\u001b[49m\u001b[43m(\u001b[49m\u001b[43mdag\u001b[49m\u001b[43m)\u001b[49m\n\u001b[1;32m    167\u001b[0m     end_time \u001b[38;5;241m=\u001b[39m time()\n\u001b[1;32m    168\u001b[0m     run_time \u001b[38;5;241m=\u001b[39m end_time \u001b[38;5;241m-\u001b[39m start_time\n",
      "File \u001b[0;32m~/.local/lib/python3.10/site-packages/qiskit/transpiler/passes/optimization/optimize_1q_decomposition.py:168\u001b[0m, in \u001b[0;36mOptimize1qGatesDecomposition.run\u001b[0;34m(self, dag)\u001b[0m\n\u001b[1;32m    165\u001b[0m     \u001b[38;5;28;01mif\u001b[39;00m \u001b[38;5;124m\"\u001b[39m\u001b[38;5;124mu2\u001b[39m\u001b[38;5;124m\"\u001b[39m \u001b[38;5;129;01mnot\u001b[39;00m \u001b[38;5;129;01min\u001b[39;00m \u001b[38;5;28mself\u001b[39m\u001b[38;5;241m.\u001b[39m_target_basis \u001b[38;5;129;01mand\u001b[39;00m \u001b[38;5;124m\"\u001b[39m\u001b[38;5;124mu1\u001b[39m\u001b[38;5;124m\"\u001b[39m \u001b[38;5;129;01mnot\u001b[39;00m \u001b[38;5;129;01min\u001b[39;00m \u001b[38;5;28mself\u001b[39m\u001b[38;5;241m.\u001b[39m_target_basis:\n\u001b[1;32m    166\u001b[0m         \u001b[38;5;28;01mcontinue\u001b[39;00m\n\u001b[0;32m--> 168\u001b[0m new_basis, new_circ \u001b[38;5;241m=\u001b[39m \u001b[38;5;28;43mself\u001b[39;49m\u001b[38;5;241;43m.\u001b[39;49m\u001b[43m_resynthesize_run\u001b[49m\u001b[43m(\u001b[49m\u001b[43mrun\u001b[49m\u001b[43m)\u001b[49m\n\u001b[1;32m    170\u001b[0m \u001b[38;5;28;01mif\u001b[39;00m new_circ \u001b[38;5;129;01mis\u001b[39;00m \u001b[38;5;129;01mnot\u001b[39;00m \u001b[38;5;28;01mNone\u001b[39;00m \u001b[38;5;129;01mand\u001b[39;00m \u001b[38;5;28mself\u001b[39m\u001b[38;5;241m.\u001b[39m_substitution_checks(dag, run, new_circ, new_basis):\n\u001b[1;32m    171\u001b[0m     new_dag \u001b[38;5;241m=\u001b[39m circuit_to_dag(new_circ)\n",
      "File \u001b[0;32m~/.local/lib/python3.10/site-packages/qiskit/transpiler/passes/optimization/optimize_1q_decomposition.py:78\u001b[0m, in \u001b[0;36mOptimize1qGatesDecomposition._resynthesize_run\u001b[0;34m(self, run)\u001b[0m\n\u001b[1;32m     75\u001b[0m \u001b[38;5;28;01mfor\u001b[39;00m gate \u001b[38;5;129;01min\u001b[39;00m run[\u001b[38;5;241m1\u001b[39m:]:\n\u001b[1;32m     76\u001b[0m     operator \u001b[38;5;241m=\u001b[39m gate\u001b[38;5;241m.\u001b[39mop\u001b[38;5;241m.\u001b[39mto_matrix()\u001b[38;5;241m.\u001b[39mdot(operator)\n\u001b[0;32m---> 78\u001b[0m new_circs \u001b[38;5;241m=\u001b[39m {k: v\u001b[38;5;241m.\u001b[39m_decompose(operator) \u001b[38;5;28;01mfor\u001b[39;00m k, v \u001b[38;5;129;01min\u001b[39;00m \u001b[38;5;28mself\u001b[39m\u001b[38;5;241m.\u001b[39m_decomposers\u001b[38;5;241m.\u001b[39mitems()}\n\u001b[1;32m     80\u001b[0m new_basis, new_circ \u001b[38;5;241m=\u001b[39m \u001b[38;5;28;01mNone\u001b[39;00m, \u001b[38;5;28;01mNone\u001b[39;00m\n\u001b[1;32m     81\u001b[0m \u001b[38;5;28;01mif\u001b[39;00m \u001b[38;5;28mlen\u001b[39m(new_circs) \u001b[38;5;241m>\u001b[39m \u001b[38;5;241m0\u001b[39m:\n",
      "File \u001b[0;32m~/.local/lib/python3.10/site-packages/qiskit/transpiler/passes/optimization/optimize_1q_decomposition.py:78\u001b[0m, in \u001b[0;36m<dictcomp>\u001b[0;34m(.0)\u001b[0m\n\u001b[1;32m     75\u001b[0m \u001b[38;5;28;01mfor\u001b[39;00m gate \u001b[38;5;129;01min\u001b[39;00m run[\u001b[38;5;241m1\u001b[39m:]:\n\u001b[1;32m     76\u001b[0m     operator \u001b[38;5;241m=\u001b[39m gate\u001b[38;5;241m.\u001b[39mop\u001b[38;5;241m.\u001b[39mto_matrix()\u001b[38;5;241m.\u001b[39mdot(operator)\n\u001b[0;32m---> 78\u001b[0m new_circs \u001b[38;5;241m=\u001b[39m {k: \u001b[43mv\u001b[49m\u001b[38;5;241;43m.\u001b[39;49m\u001b[43m_decompose\u001b[49m\u001b[43m(\u001b[49m\u001b[43moperator\u001b[49m\u001b[43m)\u001b[49m \u001b[38;5;28;01mfor\u001b[39;00m k, v \u001b[38;5;129;01min\u001b[39;00m \u001b[38;5;28mself\u001b[39m\u001b[38;5;241m.\u001b[39m_decomposers\u001b[38;5;241m.\u001b[39mitems()}\n\u001b[1;32m     80\u001b[0m new_basis, new_circ \u001b[38;5;241m=\u001b[39m \u001b[38;5;28;01mNone\u001b[39;00m, \u001b[38;5;28;01mNone\u001b[39;00m\n\u001b[1;32m     81\u001b[0m \u001b[38;5;28;01mif\u001b[39;00m \u001b[38;5;28mlen\u001b[39m(new_circs) \u001b[38;5;241m>\u001b[39m \u001b[38;5;241m0\u001b[39m:\n",
      "File \u001b[0;32m~/.local/lib/python3.10/site-packages/qiskit/quantum_info/synthesis/one_qubit_decompose.py:167\u001b[0m, in \u001b[0;36mOneQubitEulerDecomposer._decompose\u001b[0;34m(self, unitary, simplify, atol)\u001b[0m\n\u001b[1;32m    166\u001b[0m \u001b[38;5;28;01mdef\u001b[39;00m \u001b[38;5;21m_decompose\u001b[39m(\u001b[38;5;28mself\u001b[39m, unitary, simplify\u001b[38;5;241m=\u001b[39m\u001b[38;5;28;01mTrue\u001b[39;00m, atol\u001b[38;5;241m=\u001b[39mDEFAULT_ATOL):\n\u001b[0;32m--> 167\u001b[0m     theta, phi, lam, phase \u001b[38;5;241m=\u001b[39m \u001b[38;5;28;43mself\u001b[39;49m\u001b[38;5;241;43m.\u001b[39;49m\u001b[43m_params\u001b[49m\u001b[43m(\u001b[49m\u001b[43munitary\u001b[49m\u001b[43m)\u001b[49m\n\u001b[1;32m    168\u001b[0m     circuit \u001b[38;5;241m=\u001b[39m \u001b[38;5;28mself\u001b[39m\u001b[38;5;241m.\u001b[39m_circuit(theta, phi, lam, phase, simplify\u001b[38;5;241m=\u001b[39msimplify, atol\u001b[38;5;241m=\u001b[39matol)\n\u001b[1;32m    169\u001b[0m     \u001b[38;5;28;01mreturn\u001b[39;00m circuit\n",
      "File \u001b[0;32m~/.local/lib/python3.10/site-packages/qiskit/quantum_info/synthesis/one_qubit_decompose.py:226\u001b[0m, in \u001b[0;36mOneQubitEulerDecomposer._params_zyz\u001b[0;34m(mat)\u001b[0m\n\u001b[1;32m    223\u001b[0m \u001b[38;5;124;03m\"\"\"Return the Euler angles and phase for the ZYZ basis.\"\"\"\u001b[39;00m\n\u001b[1;32m    224\u001b[0m \u001b[38;5;66;03m# We rescale the input matrix to be special unitary (det(U) = 1)\u001b[39;00m\n\u001b[1;32m    225\u001b[0m \u001b[38;5;66;03m# This ensures that the quaternion representation is real\u001b[39;00m\n\u001b[0;32m--> 226\u001b[0m coeff \u001b[38;5;241m=\u001b[39m \u001b[43mla\u001b[49m\u001b[38;5;241;43m.\u001b[39;49m\u001b[43mdet\u001b[49m\u001b[43m(\u001b[49m\u001b[43mmat\u001b[49m\u001b[43m)\u001b[49m \u001b[38;5;241m*\u001b[39m\u001b[38;5;241m*\u001b[39m (\u001b[38;5;241m-\u001b[39m\u001b[38;5;241m0.5\u001b[39m)\n\u001b[1;32m    227\u001b[0m phase \u001b[38;5;241m=\u001b[39m \u001b[38;5;241m-\u001b[39mcmath\u001b[38;5;241m.\u001b[39mphase(coeff)\n\u001b[1;32m    228\u001b[0m su_mat \u001b[38;5;241m=\u001b[39m coeff \u001b[38;5;241m*\u001b[39m mat  \u001b[38;5;66;03m# U in SU(2)\u001b[39;00m\n",
      "File \u001b[0;32m~/.local/lib/python3.10/site-packages/scipy/linalg/_basic.py:1023\u001b[0m, in \u001b[0;36mdet\u001b[0;34m(a, overwrite_a, check_finite)\u001b[0m\n\u001b[1;32m    977\u001b[0m \u001b[38;5;28;01mdef\u001b[39;00m \u001b[38;5;21mdet\u001b[39m(a, overwrite_a\u001b[38;5;241m=\u001b[39m\u001b[38;5;28;01mFalse\u001b[39;00m, check_finite\u001b[38;5;241m=\u001b[39m\u001b[38;5;28;01mTrue\u001b[39;00m):\n\u001b[1;32m    978\u001b[0m     \u001b[38;5;124;03m\"\"\"\u001b[39;00m\n\u001b[1;32m    979\u001b[0m \u001b[38;5;124;03m    Compute the determinant of a matrix\u001b[39;00m\n\u001b[1;32m    980\u001b[0m \n\u001b[0;32m   (...)\u001b[0m\n\u001b[1;32m   1021\u001b[0m \n\u001b[1;32m   1022\u001b[0m \u001b[38;5;124;03m    \"\"\"\u001b[39;00m\n\u001b[0;32m-> 1023\u001b[0m     a1 \u001b[38;5;241m=\u001b[39m \u001b[43m_asarray_validated\u001b[49m\u001b[43m(\u001b[49m\u001b[43ma\u001b[49m\u001b[43m,\u001b[49m\u001b[43m \u001b[49m\u001b[43mcheck_finite\u001b[49m\u001b[38;5;241;43m=\u001b[39;49m\u001b[43mcheck_finite\u001b[49m\u001b[43m)\u001b[49m\n\u001b[1;32m   1024\u001b[0m     \u001b[38;5;28;01mif\u001b[39;00m \u001b[38;5;28mlen\u001b[39m(a1\u001b[38;5;241m.\u001b[39mshape) \u001b[38;5;241m!=\u001b[39m \u001b[38;5;241m2\u001b[39m \u001b[38;5;129;01mor\u001b[39;00m a1\u001b[38;5;241m.\u001b[39mshape[\u001b[38;5;241m0\u001b[39m] \u001b[38;5;241m!=\u001b[39m a1\u001b[38;5;241m.\u001b[39mshape[\u001b[38;5;241m1\u001b[39m]:\n\u001b[1;32m   1025\u001b[0m         \u001b[38;5;28;01mraise\u001b[39;00m \u001b[38;5;167;01mValueError\u001b[39;00m(\u001b[38;5;124m'\u001b[39m\u001b[38;5;124mexpected square matrix\u001b[39m\u001b[38;5;124m'\u001b[39m)\n",
      "File \u001b[0;32m~/.local/lib/python3.10/site-packages/scipy/_lib/_util.py:287\u001b[0m, in \u001b[0;36m_asarray_validated\u001b[0;34m(a, check_finite, sparse_ok, objects_ok, mask_ok, as_inexact)\u001b[0m\n\u001b[1;32m    285\u001b[0m         \u001b[38;5;28;01mraise\u001b[39;00m \u001b[38;5;167;01mValueError\u001b[39;00m(\u001b[38;5;124m'\u001b[39m\u001b[38;5;124mmasked arrays are not supported\u001b[39m\u001b[38;5;124m'\u001b[39m)\n\u001b[1;32m    286\u001b[0m toarray \u001b[38;5;241m=\u001b[39m np\u001b[38;5;241m.\u001b[39masarray_chkfinite \u001b[38;5;28;01mif\u001b[39;00m check_finite \u001b[38;5;28;01melse\u001b[39;00m np\u001b[38;5;241m.\u001b[39masarray\n\u001b[0;32m--> 287\u001b[0m a \u001b[38;5;241m=\u001b[39m \u001b[43mtoarray\u001b[49m\u001b[43m(\u001b[49m\u001b[43ma\u001b[49m\u001b[43m)\u001b[49m\n\u001b[1;32m    288\u001b[0m \u001b[38;5;28;01mif\u001b[39;00m \u001b[38;5;129;01mnot\u001b[39;00m objects_ok:\n\u001b[1;32m    289\u001b[0m     \u001b[38;5;28;01mif\u001b[39;00m a\u001b[38;5;241m.\u001b[39mdtype \u001b[38;5;129;01mis\u001b[39;00m np\u001b[38;5;241m.\u001b[39mdtype(\u001b[38;5;124m'\u001b[39m\u001b[38;5;124mO\u001b[39m\u001b[38;5;124m'\u001b[39m):\n",
      "File \u001b[0;32m~/.local/lib/python3.10/site-packages/numpy/lib/function_base.py:627\u001b[0m, in \u001b[0;36masarray_chkfinite\u001b[0;34m(a, dtype, order)\u001b[0m\n\u001b[1;32m    564\u001b[0m \u001b[38;5;124;03m\"\"\"Convert the input to an array, checking for NaNs or Infs.\u001b[39;00m\n\u001b[1;32m    565\u001b[0m \n\u001b[1;32m    566\u001b[0m \u001b[38;5;124;03mParameters\u001b[39;00m\n\u001b[0;32m   (...)\u001b[0m\n\u001b[1;32m    624\u001b[0m \n\u001b[1;32m    625\u001b[0m \u001b[38;5;124;03m\"\"\"\u001b[39;00m\n\u001b[1;32m    626\u001b[0m a \u001b[38;5;241m=\u001b[39m asarray(a, dtype\u001b[38;5;241m=\u001b[39mdtype, order\u001b[38;5;241m=\u001b[39morder)\n\u001b[0;32m--> 627\u001b[0m \u001b[38;5;28;01mif\u001b[39;00m a\u001b[38;5;241m.\u001b[39mdtype\u001b[38;5;241m.\u001b[39mchar \u001b[38;5;129;01min\u001b[39;00m typecodes[\u001b[38;5;124m'\u001b[39m\u001b[38;5;124mAllFloat\u001b[39m\u001b[38;5;124m'\u001b[39m] \u001b[38;5;129;01mand\u001b[39;00m \u001b[38;5;129;01mnot\u001b[39;00m \u001b[43mnp\u001b[49m\u001b[38;5;241;43m.\u001b[39;49m\u001b[43misfinite\u001b[49m\u001b[43m(\u001b[49m\u001b[43ma\u001b[49m\u001b[43m)\u001b[49m\u001b[38;5;241;43m.\u001b[39;49m\u001b[43mall\u001b[49m\u001b[43m(\u001b[49m\u001b[43m)\u001b[49m:\n\u001b[1;32m    628\u001b[0m     \u001b[38;5;28;01mraise\u001b[39;00m \u001b[38;5;167;01mValueError\u001b[39;00m(\n\u001b[1;32m    629\u001b[0m         \u001b[38;5;124m\"\u001b[39m\u001b[38;5;124marray must not contain infs or NaNs\u001b[39m\u001b[38;5;124m\"\u001b[39m)\n\u001b[1;32m    630\u001b[0m \u001b[38;5;28;01mreturn\u001b[39;00m a\n",
      "File \u001b[0;32m~/.local/lib/python3.10/site-packages/numpy/core/_methods.py:64\u001b[0m, in \u001b[0;36m_all\u001b[0;34m(a, axis, dtype, out, keepdims, where)\u001b[0m\n\u001b[1;32m     61\u001b[0m \u001b[38;5;28;01mdef\u001b[39;00m \u001b[38;5;21m_all\u001b[39m(a, axis\u001b[38;5;241m=\u001b[39m\u001b[38;5;28;01mNone\u001b[39;00m, dtype\u001b[38;5;241m=\u001b[39m\u001b[38;5;28;01mNone\u001b[39;00m, out\u001b[38;5;241m=\u001b[39m\u001b[38;5;28;01mNone\u001b[39;00m, keepdims\u001b[38;5;241m=\u001b[39m\u001b[38;5;28;01mFalse\u001b[39;00m, \u001b[38;5;241m*\u001b[39m, where\u001b[38;5;241m=\u001b[39m\u001b[38;5;28;01mTrue\u001b[39;00m):\n\u001b[1;32m     62\u001b[0m     \u001b[38;5;66;03m# Parsing keyword arguments is currently fairly slow, so avoid it for now\u001b[39;00m\n\u001b[1;32m     63\u001b[0m     \u001b[38;5;28;01mif\u001b[39;00m where \u001b[38;5;129;01mis\u001b[39;00m \u001b[38;5;28;01mTrue\u001b[39;00m:\n\u001b[0;32m---> 64\u001b[0m         \u001b[38;5;28;01mreturn\u001b[39;00m \u001b[43mumr_all\u001b[49m\u001b[43m(\u001b[49m\u001b[43ma\u001b[49m\u001b[43m,\u001b[49m\u001b[43m \u001b[49m\u001b[43maxis\u001b[49m\u001b[43m,\u001b[49m\u001b[43m \u001b[49m\u001b[43mdtype\u001b[49m\u001b[43m,\u001b[49m\u001b[43m \u001b[49m\u001b[43mout\u001b[49m\u001b[43m,\u001b[49m\u001b[43m \u001b[49m\u001b[43mkeepdims\u001b[49m\u001b[43m)\u001b[49m\n\u001b[1;32m     65\u001b[0m     \u001b[38;5;28;01mreturn\u001b[39;00m umr_all(a, axis, dtype, out, keepdims, where\u001b[38;5;241m=\u001b[39mwhere)\n",
      "\u001b[0;31mKeyboardInterrupt\u001b[0m: "
     ]
    }
   ],
   "source": [
    "from tqdm import tqdm\n",
    "\n",
    "coefficient_set = [0.55, 0.45]\n",
    "gate_set = [ [0, 0, 0, 0], [0, 1, 0, 0] ]\n",
    "\n",
    "for i in range(len(gate_set)):\n",
    "    gate_set[i] = gate_set[i][0:N]\n",
    "        \n",
    "for i in tqdm(range(10)):\n",
    "    result, parameters = vqls.predict(gate_set, coefficient_set, print_logs=False)"
   ]
  },
  {
   "cell_type": "code",
   "execution_count": null,
   "id": "b7499208",
   "metadata": {},
   "outputs": [],
   "source": []
  },
  {
   "cell_type": "code",
   "execution_count": null,
   "id": "f92033ee",
   "metadata": {},
   "outputs": [],
   "source": []
  },
  {
   "cell_type": "code",
   "execution_count": null,
   "id": "62fb263e",
   "metadata": {},
   "outputs": [],
   "source": []
  },
  {
   "cell_type": "code",
   "execution_count": null,
   "id": "1ea3beb6",
   "metadata": {},
   "outputs": [],
   "source": []
  },
  {
   "cell_type": "code",
   "execution_count": null,
   "id": "095185ba",
   "metadata": {},
   "outputs": [],
   "source": []
  },
  {
   "cell_type": "code",
   "execution_count": null,
   "id": "07a40097",
   "metadata": {},
   "outputs": [],
   "source": []
  },
  {
   "cell_type": "code",
   "execution_count": null,
   "id": "dd449329",
   "metadata": {},
   "outputs": [],
   "source": []
  },
  {
   "cell_type": "code",
   "execution_count": null,
   "id": "d5c77d76",
   "metadata": {},
   "outputs": [],
   "source": []
  },
  {
   "cell_type": "code",
   "execution_count": null,
   "id": "581d2edd",
   "metadata": {},
   "outputs": [],
   "source": []
  },
  {
   "cell_type": "code",
   "execution_count": 10,
   "id": "353512aa",
   "metadata": {
    "colab": {
     "base_uri": "https://localhost:8080/",
     "height": 125
    },
    "id": "353512aa",
    "outputId": "f56b05f7-27a7-41cb-eb9d-50345f3d245e"
   },
   "outputs": [
    {
     "data": {
      "text/html": [
       "<pre style=\"word-wrap: normal;white-space: pre;background: #fff0;line-height: 1.1;font-family: &quot;Courier New&quot;,Courier,monospace\">     ┌───────┐      ┌───────┐      ┌───────┐\n",
       "q_0: ┤ Ry(1) ├─■──■─┤ Ry(1) ├────■─┤ Ry(1) ├\n",
       "     ├───────┤ │  │ ├───────┤    │ ├───────┤\n",
       "q_1: ┤ Ry(1) ├─■──┼─┤ Ry(1) ├─■──┼─┤ Ry(1) ├\n",
       "     ├───────┤    │ ├───────┤ │  │ ├───────┤\n",
       "q_2: ┤ Ry(1) ├────■─┤ Ry(1) ├─■──■─┤ Ry(1) ├\n",
       "     └───────┘      └───────┘      └───────┘</pre>"
      ],
      "text/plain": [
       "     ┌───────┐      ┌───────┐      ┌───────┐\n",
       "q_0: ┤ Ry(1) ├─■──■─┤ Ry(1) ├────■─┤ Ry(1) ├\n",
       "     ├───────┤ │  │ ├───────┤    │ ├───────┤\n",
       "q_1: ┤ Ry(1) ├─■──┼─┤ Ry(1) ├─■──┼─┤ Ry(1) ├\n",
       "     ├───────┤    │ ├───────┤ │  │ ├───────┤\n",
       "q_2: ┤ Ry(1) ├────■─┤ Ry(1) ├─■──■─┤ Ry(1) ├\n",
       "     └───────┘      └───────┘      └───────┘"
      ]
     },
     "execution_count": 10,
     "metadata": {},
     "output_type": "execute_result"
    }
   ],
   "source": [
    "def apply_fixed_ansatz(qubits, parameters):\n",
    "\n",
    "    for iz in range (0, len(qubits)):\n",
    "        circ.ry(parameters[0][iz], qubits[iz])\n",
    "\n",
    "    circ.cz(qubits[0], qubits[1])\n",
    "    circ.cz(qubits[2], qubits[0])\n",
    "\n",
    "    for iz in range (0, len(qubits)):\n",
    "        circ.ry(parameters[1][iz], qubits[iz])\n",
    "\n",
    "    circ.cz(qubits[1], qubits[2])\n",
    "    circ.cz(qubits[2], qubits[0])\n",
    "\n",
    "    for iz in range (0, len(qubits)):\n",
    "        circ.ry(parameters[2][iz], qubits[iz])\n",
    "\n",
    "circ = QuantumCircuit(3)\n",
    "apply_fixed_ansatz([0, 1, 2], [ [1, 1, 1], [1, 1, 1], [1, 1, 1] ])\n",
    "circ.draw()"
   ]
  },
  {
   "cell_type": "code",
   "execution_count": 11,
   "id": "f3bf268c",
   "metadata": {
    "colab": {
     "base_uri": "https://localhost:8080/",
     "height": 156
    },
    "id": "f3bf268c",
    "outputId": "35655e9f-fa38-4029-d4f0-a414e5330d3c"
   },
   "outputs": [
    {
     "data": {
      "text/html": [
       "<pre style=\"word-wrap: normal;white-space: pre;background: #fff0;line-height: 1.1;font-family: &quot;Courier New&quot;,Courier,monospace\">       ┌───┐                                   ┌───┐\n",
       "q_0: ──┤ H ├─────────────────────────────────■─┤ H ├\n",
       "     ┌─┴───┴─┐      ┌───────┐      ┌───────┐ │ └───┘\n",
       "q_1: ┤ Ry(1) ├─■──■─┤ Ry(1) ├────■─┤ Ry(1) ├─┼──────\n",
       "     ├───────┤ │  │ ├───────┤    │ ├───────┤ │      \n",
       "q_2: ┤ Ry(1) ├─■──┼─┤ Ry(1) ├─■──┼─┤ Ry(1) ├─┼──────\n",
       "     ├───────┤    │ ├───────┤ │  │ ├───────┤ │      \n",
       "q_3: ┤ Ry(1) ├────■─┤ Ry(1) ├─■──■─┤ Ry(1) ├─■──────\n",
       "     └───────┘      └───────┘      └───────┘        </pre>"
      ],
      "text/plain": [
       "       ┌───┐                                   ┌───┐\n",
       "q_0: ──┤ H ├─────────────────────────────────■─┤ H ├\n",
       "     ┌─┴───┴─┐      ┌───────┐      ┌───────┐ │ └───┘\n",
       "q_1: ┤ Ry(1) ├─■──■─┤ Ry(1) ├────■─┤ Ry(1) ├─┼──────\n",
       "     ├───────┤ │  │ ├───────┤    │ ├───────┤ │      \n",
       "q_2: ┤ Ry(1) ├─■──┼─┤ Ry(1) ├─■──┼─┤ Ry(1) ├─┼──────\n",
       "     ├───────┤    │ ├───────┤ │  │ ├───────┤ │      \n",
       "q_3: ┤ Ry(1) ├────■─┤ Ry(1) ├─■──■─┤ Ry(1) ├─■──────\n",
       "     └───────┘      └───────┘      └───────┘        "
      ]
     },
     "execution_count": 11,
     "metadata": {},
     "output_type": "execute_result"
    }
   ],
   "source": [
    "# Creates the Hadamard test\n",
    "\n",
    "def had_test(gate_type, qubits, auxiliary_index, parameters):\n",
    "\n",
    "    circ.h(auxiliary_index)\n",
    "\n",
    "    apply_fixed_ansatz(qubits, parameters)\n",
    "\n",
    "    for ie in range (0, len(gate_type[0])):\n",
    "        if (gate_type[0][ie] == 1):\n",
    "            circ.cz(auxiliary_index, qubits[ie])\n",
    "\n",
    "    for ie in range (0, len(gate_type[1])):\n",
    "        if (gate_type[1][ie] == 1):\n",
    "            circ.cz(auxiliary_index, qubits[ie])\n",
    "    \n",
    "    circ.h(auxiliary_index)\n",
    "    \n",
    "circ = QuantumCircuit(4)\n",
    "had_test([ [0, 0, 0], [0, 0, 1] ], [1, 2, 3], 0, [ [1, 1, 1], [1, 1, 1], [1, 1, 1] ])\n",
    "circ.draw()"
   ]
  },
  {
   "cell_type": "code",
   "execution_count": 13,
   "id": "f7970165",
   "metadata": {
    "colab": {
     "base_uri": "https://localhost:8080/",
     "height": 356
    },
    "id": "f7970165",
    "outputId": "4d7d765b-dddf-4f71-99ec-4543f7b42c1a"
   },
   "outputs": [
    {
     "data": {
      "text/html": [
       "<pre style=\"word-wrap: normal;white-space: pre;background: #fff0;line-height: 1.1;font-family: &quot;Courier New&quot;,Courier,monospace\">                                                                              »\n",
       "q18_0: ────■────────■────────■──────■───────■────■───────■──────■────────■────»\n",
       "       ┌───┴───┐    │        │      │       │    │       │  ┌───┴───┐    │    »\n",
       "q18_1: ┤ Ry(1) ├────┼────────┼──────┼───■───┼────■───────■──┤ Ry(1) ├────┼────»\n",
       "       └───────┘┌───┴───┐    │      │   │   │    │       │  └───────┘┌───┴───┐»\n",
       "q18_2: ─────────┤ Ry(1) ├────┼──────■───┼───■────┼───────┼───────────┤ Ry(1) ├»\n",
       "                └───────┘┌───┴───┐  │   │   │    │       │           └───────┘»\n",
       "q18_3: ──────────────────┤ Ry(1) ├──┼───┼───┼────┼───■───┼────────────────────»\n",
       "                         └───────┘┌─┴─┐ │ ┌─┴─┐┌─┴─┐ │ ┌─┴─┐                  »\n",
       "q18_4: ───────────────────────────┤ X ├─■─┤ X ├┤ X ├─■─┤ X ├──────────────────»\n",
       "                                  └───┘   └───┘└───┘   └───┘                  »\n",
       "«                                                                     \n",
       "«q18_0: ────■──────■───────■────■───────■──────■────────■────────■────\n",
       "«           │      │       │    │       │  ┌───┴───┐    │        │    \n",
       "«q18_1: ────┼──────┼───────┼────■───────■──┤ Ry(1) ├────┼────────┼────\n",
       "«           │      │       │    │       │  └───────┘┌───┴───┐    │    \n",
       "«q18_2: ────┼──────┼───■───┼────┼───────┼───────────┤ Ry(1) ├────┼────\n",
       "«       ┌───┴───┐  │   │   │    │       │           └───────┘┌───┴───┐\n",
       "«q18_3: ┤ Ry(1) ├──■───┼───■────┼───■───┼────────────────────┤ Ry(1) ├\n",
       "«       └───────┘┌─┴─┐ │ ┌─┴─┐┌─┴─┐ │ ┌─┴─┐                  └───────┘\n",
       "«q18_4: ─────────┤ X ├─■─┤ X ├┤ X ├─■─┤ X ├───────────────────────────\n",
       "«                └───┘   └───┘└───┘   └───┘                           </pre>"
      ],
      "text/plain": [
       "                                                                              »\n",
       "q18_0: ────■────────■────────■──────■───────■────■───────■──────■────────■────»\n",
       "       ┌───┴───┐    │        │      │       │    │       │  ┌───┴───┐    │    »\n",
       "q18_1: ┤ Ry(1) ├────┼────────┼──────┼───■───┼────■───────■──┤ Ry(1) ├────┼────»\n",
       "       └───────┘┌───┴───┐    │      │   │   │    │       │  └───────┘┌───┴───┐»\n",
       "q18_2: ─────────┤ Ry(1) ├────┼──────■───┼───■────┼───────┼───────────┤ Ry(1) ├»\n",
       "                └───────┘┌───┴───┐  │   │   │    │       │           └───────┘»\n",
       "q18_3: ──────────────────┤ Ry(1) ├──┼───┼───┼────┼───■───┼────────────────────»\n",
       "                         └───────┘┌─┴─┐ │ ┌─┴─┐┌─┴─┐ │ ┌─┴─┐                  »\n",
       "q18_4: ───────────────────────────┤ X ├─■─┤ X ├┤ X ├─■─┤ X ├──────────────────»\n",
       "                                  └───┘   └───┘└───┘   └───┘                  »\n",
       "«                                                                     \n",
       "«q18_0: ────■──────■───────■────■───────■──────■────────■────────■────\n",
       "«           │      │       │    │       │  ┌───┴───┐    │        │    \n",
       "«q18_1: ────┼──────┼───────┼────■───────■──┤ Ry(1) ├────┼────────┼────\n",
       "«           │      │       │    │       │  └───────┘┌───┴───┐    │    \n",
       "«q18_2: ────┼──────┼───■───┼────┼───────┼───────────┤ Ry(1) ├────┼────\n",
       "«       ┌───┴───┐  │   │   │    │       │           └───────┘┌───┴───┐\n",
       "«q18_3: ┤ Ry(1) ├──■───┼───■────┼───■───┼────────────────────┤ Ry(1) ├\n",
       "«       └───────┘┌─┴─┐ │ ┌─┴─┐┌─┴─┐ │ ┌─┴─┐                  └───────┘\n",
       "«q18_4: ─────────┤ X ├─■─┤ X ├┤ X ├─■─┤ X ├───────────────────────────\n",
       "«                └───┘   └───┘└───┘   └───┘                           "
      ]
     },
     "execution_count": 13,
     "metadata": {},
     "output_type": "execute_result"
    }
   ],
   "source": [
    "# Creates controlled anstaz for calculating |<b|psi>|^2 with a Hadamard test\n",
    "\n",
    "def control_fixed_ansatz(qubits, parameters, auxiliary, reg):\n",
    "\n",
    "    for i in range (0, len(qubits)):\n",
    "        circ.cry(parameters[0][i], qiskit.circuit.Qubit(reg, auxiliary), qiskit.circuit.Qubit(reg, qubits[i]))\n",
    "\n",
    "    circ.ccx(auxiliary, qubits[1], 4)\n",
    "    circ.cz(qubits[0], 4)\n",
    "    circ.ccx(auxiliary, qubits[1], 4)\n",
    "\n",
    "    circ.ccx(auxiliary, qubits[0], 4)\n",
    "    circ.cz(qubits[2], 4)\n",
    "    circ.ccx(auxiliary, qubits[0], 4)\n",
    "\n",
    "    for i in range (0, len(qubits)):\n",
    "        circ.cry(parameters[1][i], qiskit.circuit.Qubit(reg, auxiliary), qiskit.circuit.Qubit(reg, qubits[i]))\n",
    "\n",
    "    circ.ccx(auxiliary, qubits[2], 4)\n",
    "    circ.cz(qubits[1], 4)\n",
    "    circ.ccx(auxiliary, qubits[2], 4)\n",
    "\n",
    "    circ.ccx(auxiliary, qubits[0], 4)\n",
    "    circ.cz(qubits[2], 4)\n",
    "    circ.ccx(auxiliary, qubits[0], 4)\n",
    "\n",
    "    for i in range (0, len(qubits)):\n",
    "        circ.cry(parameters[2][i], qiskit.circuit.Qubit(reg, auxiliary), qiskit.circuit.Qubit(reg, qubits[i]))\n",
    "\n",
    "q_reg = QuantumRegister(5)\n",
    "circ = QuantumCircuit(q_reg)\n",
    "control_fixed_ansatz([1, 2, 3], [ [1, 1, 1], [1, 1, 1], [1, 1, 1] ], 0, q_reg)\n",
    "circ.draw()"
   ]
  },
  {
   "cell_type": "code",
   "execution_count": 14,
   "id": "8oY0AaSXUKql",
   "metadata": {
    "colab": {
     "base_uri": "https://localhost:8080/",
     "height": 156
    },
    "id": "8oY0AaSXUKql",
    "outputId": "df28421c-9050-4f78-954d-e7f4ba75737b"
   },
   "outputs": [
    {
     "data": {
      "text/html": [
       "<pre style=\"word-wrap: normal;white-space: pre;background: #fff0;line-height: 1.1;font-family: &quot;Courier New&quot;,Courier,monospace\">                    \n",
       "q_0: ──■────■────■──\n",
       "     ┌─┴─┐  │    │  \n",
       "q_1: ┤ H ├──┼────┼──\n",
       "     └───┘┌─┴─┐  │  \n",
       "q_2: ─────┤ H ├──┼──\n",
       "          └───┘┌─┴─┐\n",
       "q_3: ──────────┤ H ├\n",
       "               └───┘</pre>"
      ],
      "text/plain": [
       "                    \n",
       "q_0: ──■────■────■──\n",
       "     ┌─┴─┐  │    │  \n",
       "q_1: ┤ H ├──┼────┼──\n",
       "     └───┘┌─┴─┐  │  \n",
       "q_2: ─────┤ H ├──┼──\n",
       "          └───┘┌─┴─┐\n",
       "q_3: ──────────┤ H ├\n",
       "               └───┘"
      ]
     },
     "execution_count": 14,
     "metadata": {},
     "output_type": "execute_result"
    }
   ],
   "source": [
    "def control_b(auxiliary, qubits):\n",
    "\n",
    "    for ia in qubits:\n",
    "        circ.ch(auxiliary, ia)\n",
    "\n",
    "circ = QuantumCircuit(4)\n",
    "control_b(0, [1, 2, 3])\n",
    "circ.draw()"
   ]
  },
  {
   "cell_type": "code",
   "execution_count": 15,
   "id": "tmxGpPLzUMMK",
   "metadata": {
    "colab": {
     "base_uri": "https://localhost:8080/",
     "height": 525
    },
    "id": "tmxGpPLzUMMK",
    "outputId": "f54a3a1e-922b-4e1c-c814-79d097bb4122"
   },
   "outputs": [
    {
     "data": {
      "text/html": [
       "<pre style=\"word-wrap: normal;white-space: pre;background: #fff0;line-height: 1.1;font-family: &quot;Courier New&quot;,Courier,monospace\">       ┌───┐                                                              »\n",
       "q19_0: ┤ H ├────■────────■────────■──────■───────■────■───────■──────■────»\n",
       "       └───┘┌───┴───┐    │        │      │       │    │       │  ┌───┴───┐»\n",
       "q19_1: ─────┤ Ry(1) ├────┼────────┼──────┼───■───┼────■───────■──┤ Ry(1) ├»\n",
       "            └───────┘┌───┴───┐    │      │   │   │    │       │  └───────┘»\n",
       "q19_2: ──────────────┤ Ry(1) ├────┼──────■───┼───■────┼───────┼───────────»\n",
       "                     └───────┘┌───┴───┐  │   │   │    │       │           »\n",
       "q19_3: ───────────────────────┤ Ry(1) ├──┼───┼───┼────┼───■───┼───────────»\n",
       "                              └───────┘┌─┴─┐ │ ┌─┴─┐┌─┴─┐ │ ┌─┴─┐         »\n",
       "q19_4: ────────────────────────────────┤ X ├─■─┤ X ├┤ X ├─■─┤ X ├─────────»\n",
       "                                       └───┘   └───┘└───┘   └───┘         »\n",
       "«                                                                              »\n",
       "«q19_0: ────■────────■──────■───────■────■───────■──────■────────■────────■────»\n",
       "«           │        │      │       │    │       │  ┌───┴───┐    │        │    »\n",
       "«q19_1: ────┼────────┼──────┼───────┼────■───────■──┤ Ry(1) ├────┼────────┼────»\n",
       "«       ┌───┴───┐    │      │       │    │       │  └───────┘┌───┴───┐    │    »\n",
       "«q19_2: ┤ Ry(1) ├────┼──────┼───■───┼────┼───────┼───────────┤ Ry(1) ├────┼────»\n",
       "«       └───────┘┌───┴───┐  │   │   │    │       │           └───────┘┌───┴───┐»\n",
       "«q19_3: ─────────┤ Ry(1) ├──■───┼───■────┼───■───┼────────────────────┤ Ry(1) ├»\n",
       "«                └───────┘┌─┴─┐ │ ┌─┴─┐┌─┴─┐ │ ┌─┴─┐                  └───────┘»\n",
       "«q19_4: ──────────────────┤ X ├─■─┤ X ├┤ X ├─■─┤ X ├───────────────────────────»\n",
       "«                         └───┘   └───┘└───┘   └───┘                           »\n",
       "«                      ┌───┐\n",
       "«q19_0: ──■────■────■──┤ H ├\n",
       "«       ┌─┴─┐  │    │  └───┘\n",
       "«q19_1: ┤ H ├──┼────┼───────\n",
       "«       └───┘┌─┴─┐  │       \n",
       "«q19_2: ─────┤ H ├──┼───────\n",
       "«            └───┘┌─┴─┐     \n",
       "«q19_3: ──────────┤ H ├─────\n",
       "«                 └───┘     \n",
       "«q19_4: ────────────────────\n",
       "«                           </pre>"
      ],
      "text/plain": [
       "       ┌───┐                                                              »\n",
       "q19_0: ┤ H ├────■────────■────────■──────■───────■────■───────■──────■────»\n",
       "       └───┘┌───┴───┐    │        │      │       │    │       │  ┌───┴───┐»\n",
       "q19_1: ─────┤ Ry(1) ├────┼────────┼──────┼───■───┼────■───────■──┤ Ry(1) ├»\n",
       "            └───────┘┌───┴───┐    │      │   │   │    │       │  └───────┘»\n",
       "q19_2: ──────────────┤ Ry(1) ├────┼──────■───┼───■────┼───────┼───────────»\n",
       "                     └───────┘┌───┴───┐  │   │   │    │       │           »\n",
       "q19_3: ───────────────────────┤ Ry(1) ├──┼───┼───┼────┼───■───┼───────────»\n",
       "                              └───────┘┌─┴─┐ │ ┌─┴─┐┌─┴─┐ │ ┌─┴─┐         »\n",
       "q19_4: ────────────────────────────────┤ X ├─■─┤ X ├┤ X ├─■─┤ X ├─────────»\n",
       "                                       └───┘   └───┘└───┘   └───┘         »\n",
       "«                                                                              »\n",
       "«q19_0: ────■────────■──────■───────■────■───────■──────■────────■────────■────»\n",
       "«           │        │      │       │    │       │  ┌───┴───┐    │        │    »\n",
       "«q19_1: ────┼────────┼──────┼───────┼────■───────■──┤ Ry(1) ├────┼────────┼────»\n",
       "«       ┌───┴───┐    │      │       │    │       │  └───────┘┌───┴───┐    │    »\n",
       "«q19_2: ┤ Ry(1) ├────┼──────┼───■───┼────┼───────┼───────────┤ Ry(1) ├────┼────»\n",
       "«       └───────┘┌───┴───┐  │   │   │    │       │           └───────┘┌───┴───┐»\n",
       "«q19_3: ─────────┤ Ry(1) ├──■───┼───■────┼───■───┼────────────────────┤ Ry(1) ├»\n",
       "«                └───────┘┌─┴─┐ │ ┌─┴─┐┌─┴─┐ │ ┌─┴─┐                  └───────┘»\n",
       "«q19_4: ──────────────────┤ X ├─■─┤ X ├┤ X ├─■─┤ X ├───────────────────────────»\n",
       "«                         └───┘   └───┘└───┘   └───┘                           »\n",
       "«                      ┌───┐\n",
       "«q19_0: ──■────■────■──┤ H ├\n",
       "«       ┌─┴─┐  │    │  └───┘\n",
       "«q19_1: ┤ H ├──┼────┼───────\n",
       "«       └───┘┌─┴─┐  │       \n",
       "«q19_2: ─────┤ H ├──┼───────\n",
       "«            └───┘┌─┴─┐     \n",
       "«q19_3: ──────────┤ H ├─────\n",
       "«                 └───┘     \n",
       "«q19_4: ────────────────────\n",
       "«                           "
      ]
     },
     "execution_count": 15,
     "metadata": {},
     "output_type": "execute_result"
    }
   ],
   "source": [
    "# Create the controlled Hadamard test, for calculating <psi|psi>\n",
    "\n",
    "def special_had_test(gate_type, qubits, auxiliary_index, parameters, reg):\n",
    "\n",
    "    circ.h(auxiliary_index)\n",
    "\n",
    "    control_fixed_ansatz(qubits, parameters, auxiliary_index, reg)\n",
    "\n",
    "    for ty in range (0, len(gate_type)):\n",
    "        if (gate_type[ty] == 1):\n",
    "            circ.cz(auxiliary_index, qubits[ty])\n",
    "\n",
    "\n",
    "    control_b(auxiliary_index, qubits)\n",
    "    \n",
    "    circ.h(auxiliary_index)\n",
    "\n",
    "q_reg = QuantumRegister(5)\n",
    "circ = QuantumCircuit(q_reg)\n",
    "special_had_test([ [0, 0, 0], [0, 0, 1] ], [1, 2, 3], 0, [ [1, 1, 1], [1, 1, 1], [1, 1, 1] ], q_reg)\n",
    "circ.draw()"
   ]
  },
  {
   "cell_type": "code",
   "execution_count": 16,
   "id": "xZpV81wSUNfA",
   "metadata": {
    "id": "xZpV81wSUNfA"
   },
   "outputs": [],
   "source": [
    "# Implements the entire cost function on the quantum circuit\n",
    "\n",
    "def calculate_cost_function(parameters):\n",
    "    \n",
    "    global opt\n",
    "\n",
    "    overall_sum_1 = 0\n",
    "    \n",
    "    parameters = [parameters[0:3], parameters[3:6], parameters[6:9] ]\n",
    "\n",
    "    for i in range(0, len(gate_set)):\n",
    "        for j in range(0, len(gate_set)):\n",
    "\n",
    "            global circ\n",
    "\n",
    "            qctl = QuantumRegister(5)\n",
    "            qc = ClassicalRegister(5)\n",
    "            circ = QuantumCircuit(qctl, qc)\n",
    "\n",
    "            backend = Aer.get_backend('aer_simulator')\n",
    "            \n",
    "            multiply = coefficient_set[i]*coefficient_set[j]\n",
    "\n",
    "            had_test([gate_set[i], gate_set[j] ], [1, 2, 3], 0, parameters)\n",
    "\n",
    "            circ.save_statevector()\n",
    "            t_circ = transpile(circ, backend)\n",
    "            qobj = assemble(t_circ)\n",
    "            job = backend.run(qobj)\n",
    "\n",
    "            result = job.result()\n",
    "            outputstate = np.real(result.get_statevector(circ, decimals=100))\n",
    "            o = outputstate\n",
    "\n",
    "            m_sum = 0\n",
    "            for l in range (0, len(o)):\n",
    "                if (l%2 == 1):\n",
    "                    n = o[l]**2\n",
    "                    m_sum+=n\n",
    "\n",
    "            overall_sum_1+=multiply*(1-(2*m_sum))\n",
    "\n",
    "    overall_sum_2 = 0\n",
    "\n",
    "    for i in range(0, len(gate_set)):\n",
    "        for j in range(0, len(gate_set)):\n",
    "\n",
    "            multiply = coefficient_set[i]*coefficient_set[j]\n",
    "            mult = 1\n",
    "\n",
    "            for extra in range(0, 2):\n",
    "\n",
    "                qctl = QuantumRegister(5)\n",
    "                qc = ClassicalRegister(5)\n",
    "                circ = QuantumCircuit(qctl, qc)\n",
    "\n",
    "                backend = Aer.get_backend('aer_simulator')\n",
    "\n",
    "                if (extra == 0):\n",
    "                    special_had_test(gate_set[i], [1, 2, 3], 0, parameters, qctl)\n",
    "                if (extra == 1):\n",
    "                    special_had_test(gate_set[j], [1, 2, 3], 0, parameters, qctl)\n",
    "\n",
    "                circ.save_statevector()    \n",
    "                t_circ = transpile(circ, backend)\n",
    "                qobj = assemble(t_circ)\n",
    "                job = backend.run(qobj)\n",
    "\n",
    "                result = job.result()\n",
    "                outputstate = np.real(result.get_statevector(circ, decimals=100))\n",
    "                o = outputstate\n",
    "\n",
    "                m_sum = 0\n",
    "                for l in range (0, len(o)):\n",
    "                    if (l%2 == 1):\n",
    "                        n = o[l]**2\n",
    "                        m_sum+=n\n",
    "                mult = mult*(1-(2*m_sum))\n",
    "\n",
    "            overall_sum_2+=multiply*mult\n",
    "            \n",
    "    print(1-float(overall_sum_2/overall_sum_1))\n",
    "\n",
    "    return 1-float(overall_sum_2/overall_sum_1)"
   ]
  },
  {
   "cell_type": "code",
   "execution_count": 17,
   "id": "xMa6zY8hUO_X",
   "metadata": {
    "colab": {
     "base_uri": "https://localhost:8080/",
     "height": 1000
    },
    "id": "xMa6zY8hUO_X",
    "outputId": "2637bb70-d518-4b2c-e84f-eb43ac7282fd"
   },
   "outputs": [
    {
     "name": "stdout",
     "output_type": "stream",
     "text": [
      "0.9650227234975225\n",
      "0.8628224431139886\n",
      "0.98125860311319\n",
      "0.7139898059112642\n",
      "0.7052166534433495\n",
      "0.5650926659615199\n",
      "0.6202113885782531\n",
      "0.7680558441988488\n",
      "0.5142917104075904\n",
      "0.49517732626241673\n",
      "0.5734734892416187\n",
      "0.4810443349226424\n",
      "0.5031491768208822\n",
      "0.8569638850136914\n",
      "0.4585856267671229\n",
      "0.48015925772408996\n",
      "0.5233497308729975\n",
      "0.4269649796706184\n",
      "0.3952568323834217\n",
      "0.4092017487153904\n",
      "0.47498828823827066\n",
      "0.46883076696134274\n",
      "0.5148423428788607\n",
      "0.4094837111164292\n",
      "0.36718932676743254\n",
      "0.3625537327924323\n",
      "0.34227566281513966\n",
      "0.32952161303793004\n",
      "0.345507814372795\n",
      "0.3539374792580616\n",
      "0.34597611209128376\n",
      "0.3086707949268257\n",
      "0.30380393301402053\n",
      "0.2983658808040258\n",
      "0.32640602530020946\n",
      "0.28346043842751745\n",
      "0.3134707020245793\n",
      "0.31845368908629423\n",
      "0.23472634682291404\n",
      "0.13338427893138016\n",
      "0.10301209796005995\n",
      "0.44563892599933597\n",
      "0.17455307226940575\n",
      "0.13748077280114634\n",
      "0.15746791736758425\n",
      "0.22521283832916683\n",
      "0.12043076308820766\n",
      "0.10519820629937582\n",
      "0.16796992008693779\n",
      "0.12045627906557332\n",
      "0.16043489955519663\n",
      "0.1255118077897872\n",
      "0.11484474567444714\n",
      "0.08066654195237455\n",
      "0.07285430111036462\n",
      "0.07232271289064796\n",
      "0.070584560606747\n",
      "0.09209297488044255\n",
      "0.07387181716880042\n",
      "0.08504804684404599\n",
      "0.06518225952586887\n",
      "0.06138694906330433\n",
      "0.06381924045185539\n",
      "0.05897350108474586\n",
      "0.059902821794582395\n",
      "0.06743704317326693\n",
      "0.08305788699369088\n",
      "0.06062938149872865\n",
      "0.06033387588501571\n",
      "0.05982752460255558\n",
      "0.057593671808539915\n",
      "0.06445587487969429\n",
      "0.05934987618282961\n",
      "0.058827791092867954\n",
      "0.05692347262241815\n",
      "0.057017268390845866\n",
      "0.0547153041735402\n",
      "0.05390822703241138\n",
      "0.053903083985587075\n",
      "0.05443096651073687\n",
      "0.05409384223236857\n",
      "0.05474974729025062\n",
      "0.055512377760296716\n",
      "0.05446647833072671\n",
      "0.05158942902499497\n",
      "0.05101430735065371\n",
      "0.05069249553963595\n",
      "0.0522816049441025\n",
      "0.05151464057668642\n",
      "0.049490379678512664\n",
      "0.04960967382532222\n",
      "0.0502276815713264\n",
      "0.04826286828485604\n",
      "0.04948431060895653\n",
      "0.049149848179455335\n",
      "0.04798809935481019\n",
      "0.048184490762387844\n",
      "0.048090335909811155\n",
      "0.048529238029874855\n",
      "0.048024902453403295\n",
      "0.04819508080184565\n",
      "0.04786643285332315\n",
      "0.04893285139929371\n",
      "0.04735321959346994\n",
      "0.04662478492505839\n",
      "0.04627589202776261\n",
      "0.04627562114520534\n",
      "0.04604375918237169\n",
      "0.047471291396646964\n",
      "0.045577715037923516\n",
      "0.04461156981847336\n",
      "0.04431476297490167\n",
      "0.044318730570118814\n",
      "0.04384986269252755\n",
      "0.0442385607325676\n",
      "0.04416249352731594\n",
      "0.043717766135176084\n",
      "0.043359666257699714\n",
      "0.043664285949252535\n",
      "0.04337786125747811\n",
      "0.043253764219037594\n",
      "0.043401561131528044\n",
      "0.04323669455735302\n",
      "0.04361356911548597\n",
      "0.04289001409345072\n",
      "0.04222216737729634\n",
      "0.041835844201317696\n",
      "0.041604739359251575\n",
      "0.04179854020923024\n",
      "0.041620935776294665\n",
      "0.04131460795879971\n",
      "0.04117738678738114\n",
      "0.04125977166897976\n",
      "0.04146960397476229\n",
      "0.04118459713020661\n",
      "0.040719774072047854\n",
      "0.04037617339033195\n",
      "0.04029197215093494\n",
      "0.0398269992908612\n",
      "0.039615111824883975\n",
      "0.03930495296988812\n",
      "0.03899438181368986\n",
      "0.03889962117765611\n",
      "0.03890812485258455\n",
      "0.03880094479285068\n",
      "0.03874963802345732\n",
      "0.03859733219646866\n",
      "0.03804760297223986\n",
      "0.03766289817686408\n",
      "0.03723375566845899\n",
      "0.036862561020107765\n",
      "0.036479677399078536\n",
      "0.03619316090935476\n",
      "0.03576144411670157\n",
      "0.03539487571016564\n",
      "0.034983541417489605\n",
      "0.03458707172170916\n",
      "0.03427626044928156\n",
      "0.033915796533307674\n",
      "0.03365543962136974\n",
      "0.03341072711574977\n",
      "0.033144639697167966\n",
      "0.03281842361292431\n",
      "0.03270154956782467\n",
      "0.03254507007413465\n",
      "0.03253597004616782\n",
      "0.032413626314416466\n",
      "0.03208190924653087\n",
      "0.03185673453966964\n",
      "0.031881677037625344\n",
      "0.03201263324646242\n",
      "0.03154539549445512\n",
      "0.03119175923948192\n",
      "0.03093454856648714\n",
      "0.030655738439316682\n",
      "0.03046643558727491\n",
      "0.03036946055767442\n",
      "0.030459225412943547\n",
      "0.03058432992929294\n",
      "0.030436383493541386\n",
      "0.030418213906428737\n",
      "0.03004171315490234\n",
      "0.02975200313203019\n",
      "0.029790281000102836\n",
      "0.029749971889258542\n",
      "0.029928032256785753\n",
      "0.02981114254230577\n",
      "0.029685014657825026\n",
      "0.029737593682578\n",
      "0.029362357541022566\n",
      "0.02935039665987338\n",
      "0.02933924003848387\n",
      "0.02910982594291922\n",
      "0.028790500236154593\n",
      "0.028577034309740124\n",
      "0.02839215540880169\n",
      "0.02816683010044707\n",
      "0.027924083405208244\n",
      "0.02804147685022984\n",
      "0.02786824180930525\n",
      "     fun: 0.02786824180930525\n",
      "   maxcv: 0.0\n",
      " message: 'Maximum number of function evaluations has been exceeded.'\n",
      "    nfev: 200\n",
      "  status: 2\n",
      " success: False\n",
      "       x: array([2.35974768, 2.47677431, 3.20871386, 3.55000039, 1.5941463 ,\n",
      "       3.1829006 , 1.83432636, 2.47187847, 2.94950679])\n",
      "(0.9721317581965958-0j)\n"
     ]
    }
   ],
   "source": [
    "coefficient_set = [0.55, 0.45]\n",
    "gate_set = [ [0, 0, 0], [0, 0, 1] ]\n",
    "\n",
    "out = minimize(calculate_cost_function, x0=[float(random.randint(0,3000))/1000 for i in range(0, 9)], method=\"COBYLA\", options={'maxiter':200})\n",
    "print(out)\n",
    "\n",
    "out_f = [out['x'][0:3], out['x'][3:6], out['x'][6:9] ]\n",
    "\n",
    "circ = QuantumCircuit(3, 3)\n",
    "apply_fixed_ansatz([0, 1, 2], out_f)\n",
    "circ.save_statevector()\n",
    "\n",
    "backend = Aer.get_backend('aer_simulator')\n",
    "t_circ = transpile(circ, backend)\n",
    "qobj = assemble(t_circ)\n",
    "job = backend.run(qobj)\n",
    "\n",
    "result = job.result()\n",
    "o = result.get_statevector(circ, decimals=10)\n",
    "\n",
    "a1 = coefficient_set[1]*np.array([ [1,0,0,0,0,0,0,0], [0,1,0,0,0,0,0,0], [0,0,1,0,0,0,0,0], [0,0,0,1,0,0,0,0], [0,0,0,0,-1,0,0,0], [0,0,0,0,0,-1,0,0], [0,0,0,0,0,0,-1,0], [0,0,0,0,0,0,0,-1] ])\n",
    "a2 = coefficient_set[0]*np.array([ [1,0,0,0,0,0,0,0], [0,1,0,0,0,0,0,0], [0,0,1,0,0,0,0,0], [0,0,0,1,0,0,0,0], [0,0,0,0,1,0,0,0], [0,0,0,0,0,1,0,0], [0,0,0,0,0,0,1,0], [0,0,0,0,0,0,0,1] ])\n",
    "a3 = np.add(a1, a2)\n",
    "\n",
    "b = np.array([float(1/np.sqrt(8)),float(1/np.sqrt(8)),float(1/np.sqrt(8)),float(1/np.sqrt(8)),float(1/np.sqrt(8)),float(1/np.sqrt(8)),float(1/np.sqrt(8)),float(1/np.sqrt(8))])\n",
    "\n",
    "print((b.dot(a3.dot(o)/(np.linalg.norm(a3.dot(o)))))**2)"
   ]
  },
  {
   "cell_type": "code",
   "execution_count": null,
   "id": "O_h2oAkeUQxf",
   "metadata": {
    "id": "O_h2oAkeUQxf"
   },
   "outputs": [],
   "source": []
  },
  {
   "cell_type": "code",
   "execution_count": null,
   "id": "l_UeJlsOURSO",
   "metadata": {
    "id": "l_UeJlsOURSO"
   },
   "outputs": [],
   "source": []
  },
  {
   "cell_type": "code",
   "execution_count": null,
   "id": "Gfpf-hYcURUe",
   "metadata": {
    "id": "Gfpf-hYcURUe"
   },
   "outputs": [],
   "source": []
  },
  {
   "cell_type": "code",
   "execution_count": null,
   "id": "b3526617",
   "metadata": {},
   "outputs": [],
   "source": []
  }
 ],
 "metadata": {
  "colab": {
   "provenance": []
  },
  "kernelspec": {
   "display_name": "Python 3 (ipykernel)",
   "language": "python",
   "name": "python3"
  },
  "language_info": {
   "codemirror_mode": {
    "name": "ipython",
    "version": 3
   },
   "file_extension": ".py",
   "mimetype": "text/x-python",
   "name": "python",
   "nbconvert_exporter": "python",
   "pygments_lexer": "ipython3",
   "version": "3.10.10"
  }
 },
 "nbformat": 4,
 "nbformat_minor": 5
}
